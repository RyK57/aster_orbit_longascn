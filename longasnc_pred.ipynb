{
 "cells": [
  {
   "cell_type": "code",
   "execution_count": 172,
   "id": "95f2adf6",
   "metadata": {
    "execution": {
     "iopub.execute_input": "2023-04-11T08:39:50.207302Z",
     "iopub.status.busy": "2023-04-11T08:39:50.206588Z",
     "iopub.status.idle": "2023-04-11T08:39:51.569353Z",
     "shell.execute_reply": "2023-04-11T08:39:51.567825Z"
    },
    "papermill": {
     "duration": 1.399906,
     "end_time": "2023-04-11T08:39:51.572362",
     "exception": false,
     "start_time": "2023-04-11T08:39:50.172456",
     "status": "completed"
    },
    "tags": []
   },
   "outputs": [],
   "source": [
    "import pandas as pd\n",
    "import numpy as np\n",
    "import matplotlib.pyplot as plt\n",
    "import seaborn as sns\n",
    "from sklearn.model_selection import train_test_split\n",
    "from sklearn.preprocessing import StandardScaler\n",
    "import warnings\n",
    "warnings.simplefilter(action=\"ignore\",category=FutureWarning)"
   ]
  },
  {
   "cell_type": "code",
   "execution_count": 173,
   "id": "240fd47e",
   "metadata": {
    "execution": {
     "iopub.execute_input": "2023-04-11T08:39:51.704079Z",
     "iopub.status.busy": "2023-04-11T08:39:51.703658Z",
     "iopub.status.idle": "2023-04-11T08:39:58.008439Z",
     "shell.execute_reply": "2023-04-11T08:39:58.007184Z"
    },
    "papermill": {
     "duration": 6.341183,
     "end_time": "2023-04-11T08:39:58.011288",
     "exception": false,
     "start_time": "2023-04-11T08:39:51.670105",
     "status": "completed"
    },
    "tags": []
   },
   "outputs": [
    {
     "name": "stderr",
     "output_type": "stream",
     "text": [
      "C:\\Users\\rithv\\AppData\\Local\\Temp\\ipykernel_30628\\3656920345.py:1: DtypeWarning: Columns (0,10,15,16,23,24) have mixed types. Specify dtype option on import or set low_memory=False.\n",
      "  df=pd.read_csv('aster_data.csv')\n"
     ]
    }
   ],
   "source": [
    "df=pd.read_csv('aster_data.csv')"
   ]
  },
  {
   "cell_type": "code",
   "execution_count": 174,
   "id": "dcb4a319",
   "metadata": {
    "execution": {
     "iopub.execute_input": "2023-04-11T08:39:58.144301Z",
     "iopub.status.busy": "2023-04-11T08:39:58.143869Z",
     "iopub.status.idle": "2023-04-11T08:39:58.182276Z",
     "shell.execute_reply": "2023-04-11T08:39:58.181044Z"
    },
    "papermill": {
     "duration": 0.074918,
     "end_time": "2023-04-11T08:39:58.184804",
     "exception": false,
     "start_time": "2023-04-11T08:39:58.109886",
     "status": "completed"
    },
    "tags": []
   },
   "outputs": [
    {
     "data": {
      "text/html": [
       "<div>\n",
       "<style scoped>\n",
       "    .dataframe tbody tr th:only-of-type {\n",
       "        vertical-align: middle;\n",
       "    }\n",
       "\n",
       "    .dataframe tbody tr th {\n",
       "        vertical-align: top;\n",
       "    }\n",
       "\n",
       "    .dataframe thead th {\n",
       "        text-align: right;\n",
       "    }\n",
       "</style>\n",
       "<table border=\"1\" class=\"dataframe\">\n",
       "  <thead>\n",
       "    <tr style=\"text-align: right;\">\n",
       "      <th></th>\n",
       "      <th>name</th>\n",
       "      <th>a</th>\n",
       "      <th>e</th>\n",
       "      <th>i</th>\n",
       "      <th>om</th>\n",
       "      <th>w</th>\n",
       "      <th>q</th>\n",
       "      <th>ad</th>\n",
       "      <th>per_y</th>\n",
       "      <th>data_arc</th>\n",
       "      <th>...</th>\n",
       "      <th>UB</th>\n",
       "      <th>IR</th>\n",
       "      <th>spec_B</th>\n",
       "      <th>spec_T</th>\n",
       "      <th>G</th>\n",
       "      <th>moid</th>\n",
       "      <th>class</th>\n",
       "      <th>n</th>\n",
       "      <th>per</th>\n",
       "      <th>ma</th>\n",
       "    </tr>\n",
       "  </thead>\n",
       "  <tbody>\n",
       "    <tr>\n",
       "      <th>0</th>\n",
       "      <td>Ceres</td>\n",
       "      <td>2.769165</td>\n",
       "      <td>0.076009</td>\n",
       "      <td>10.594067</td>\n",
       "      <td>80.305532</td>\n",
       "      <td>73.597694</td>\n",
       "      <td>2.558684</td>\n",
       "      <td>2.979647</td>\n",
       "      <td>4.608202</td>\n",
       "      <td>8822.0</td>\n",
       "      <td>...</td>\n",
       "      <td>0.426</td>\n",
       "      <td>NaN</td>\n",
       "      <td>C</td>\n",
       "      <td>G</td>\n",
       "      <td>0.12</td>\n",
       "      <td>1.59478</td>\n",
       "      <td>MBA</td>\n",
       "      <td>0.213885</td>\n",
       "      <td>1683.145708</td>\n",
       "      <td>77.372096</td>\n",
       "    </tr>\n",
       "    <tr>\n",
       "      <th>1</th>\n",
       "      <td>Pallas</td>\n",
       "      <td>2.772466</td>\n",
       "      <td>0.230337</td>\n",
       "      <td>34.836234</td>\n",
       "      <td>173.080063</td>\n",
       "      <td>310.048857</td>\n",
       "      <td>2.133865</td>\n",
       "      <td>3.411067</td>\n",
       "      <td>4.616444</td>\n",
       "      <td>72318.0</td>\n",
       "      <td>...</td>\n",
       "      <td>0.284</td>\n",
       "      <td>NaN</td>\n",
       "      <td>B</td>\n",
       "      <td>B</td>\n",
       "      <td>0.11</td>\n",
       "      <td>1.23324</td>\n",
       "      <td>MBA</td>\n",
       "      <td>0.213503</td>\n",
       "      <td>1686.155999</td>\n",
       "      <td>59.699133</td>\n",
       "    </tr>\n",
       "    <tr>\n",
       "      <th>2</th>\n",
       "      <td>Juno</td>\n",
       "      <td>2.669150</td>\n",
       "      <td>0.256942</td>\n",
       "      <td>12.988919</td>\n",
       "      <td>169.852760</td>\n",
       "      <td>248.138626</td>\n",
       "      <td>1.983332</td>\n",
       "      <td>3.354967</td>\n",
       "      <td>4.360814</td>\n",
       "      <td>72684.0</td>\n",
       "      <td>...</td>\n",
       "      <td>0.433</td>\n",
       "      <td>NaN</td>\n",
       "      <td>Sk</td>\n",
       "      <td>S</td>\n",
       "      <td>0.32</td>\n",
       "      <td>1.03454</td>\n",
       "      <td>MBA</td>\n",
       "      <td>0.226019</td>\n",
       "      <td>1592.787285</td>\n",
       "      <td>34.925016</td>\n",
       "    </tr>\n",
       "    <tr>\n",
       "      <th>3</th>\n",
       "      <td>Vesta</td>\n",
       "      <td>2.361418</td>\n",
       "      <td>0.088721</td>\n",
       "      <td>7.141771</td>\n",
       "      <td>103.810804</td>\n",
       "      <td>150.728541</td>\n",
       "      <td>2.151909</td>\n",
       "      <td>2.570926</td>\n",
       "      <td>3.628837</td>\n",
       "      <td>24288.0</td>\n",
       "      <td>...</td>\n",
       "      <td>0.492</td>\n",
       "      <td>NaN</td>\n",
       "      <td>V</td>\n",
       "      <td>V</td>\n",
       "      <td>0.32</td>\n",
       "      <td>1.13948</td>\n",
       "      <td>MBA</td>\n",
       "      <td>0.271609</td>\n",
       "      <td>1325.432765</td>\n",
       "      <td>95.861936</td>\n",
       "    </tr>\n",
       "    <tr>\n",
       "      <th>4</th>\n",
       "      <td>Astraea</td>\n",
       "      <td>2.574249</td>\n",
       "      <td>0.191095</td>\n",
       "      <td>5.366988</td>\n",
       "      <td>141.576605</td>\n",
       "      <td>358.687607</td>\n",
       "      <td>2.082324</td>\n",
       "      <td>3.066174</td>\n",
       "      <td>4.130323</td>\n",
       "      <td>63507.0</td>\n",
       "      <td>...</td>\n",
       "      <td>0.411</td>\n",
       "      <td>NaN</td>\n",
       "      <td>S</td>\n",
       "      <td>S</td>\n",
       "      <td>NaN</td>\n",
       "      <td>1.09589</td>\n",
       "      <td>MBA</td>\n",
       "      <td>0.238632</td>\n",
       "      <td>1508.600458</td>\n",
       "      <td>282.366289</td>\n",
       "    </tr>\n",
       "  </tbody>\n",
       "</table>\n",
       "<p>5 rows × 31 columns</p>\n",
       "</div>"
      ],
      "text/plain": [
       "      name         a         e          i          om           w         q  \\\n",
       "0    Ceres  2.769165  0.076009  10.594067   80.305532   73.597694  2.558684   \n",
       "1   Pallas  2.772466  0.230337  34.836234  173.080063  310.048857  2.133865   \n",
       "2     Juno  2.669150  0.256942  12.988919  169.852760  248.138626  1.983332   \n",
       "3    Vesta  2.361418  0.088721   7.141771  103.810804  150.728541  2.151909   \n",
       "4  Astraea  2.574249  0.191095   5.366988  141.576605  358.687607  2.082324   \n",
       "\n",
       "         ad     per_y  data_arc  ...     UB  IR  spec_B spec_T     G     moid  \\\n",
       "0  2.979647  4.608202    8822.0  ...  0.426 NaN       C      G  0.12  1.59478   \n",
       "1  3.411067  4.616444   72318.0  ...  0.284 NaN       B      B  0.11  1.23324   \n",
       "2  3.354967  4.360814   72684.0  ...  0.433 NaN      Sk      S  0.32  1.03454   \n",
       "3  2.570926  3.628837   24288.0  ...  0.492 NaN       V      V  0.32  1.13948   \n",
       "4  3.066174  4.130323   63507.0  ...  0.411 NaN       S      S   NaN  1.09589   \n",
       "\n",
       "  class         n          per          ma  \n",
       "0   MBA  0.213885  1683.145708   77.372096  \n",
       "1   MBA  0.213503  1686.155999   59.699133  \n",
       "2   MBA  0.226019  1592.787285   34.925016  \n",
       "3   MBA  0.271609  1325.432765   95.861936  \n",
       "4   MBA  0.238632  1508.600458  282.366289  \n",
       "\n",
       "[5 rows x 31 columns]"
      ]
     },
     "execution_count": 174,
     "metadata": {},
     "output_type": "execute_result"
    }
   ],
   "source": [
    "df.head()"
   ]
  },
  {
   "cell_type": "code",
   "execution_count": 175,
   "id": "ce0fb3f3",
   "metadata": {
    "execution": {
     "iopub.execute_input": "2023-04-11T08:39:58.253369Z",
     "iopub.status.busy": "2023-04-11T08:39:58.252176Z",
     "iopub.status.idle": "2023-04-11T08:39:58.259844Z",
     "shell.execute_reply": "2023-04-11T08:39:58.258826Z"
    },
    "papermill": {
     "duration": 0.044382,
     "end_time": "2023-04-11T08:39:58.262343",
     "exception": false,
     "start_time": "2023-04-11T08:39:58.217961",
     "status": "completed"
    },
    "tags": []
   },
   "outputs": [
    {
     "data": {
      "text/plain": [
       "(839714, 31)"
      ]
     },
     "execution_count": 175,
     "metadata": {},
     "output_type": "execute_result"
    }
   ],
   "source": [
    "df.shape"
   ]
  },
  {
   "cell_type": "code",
   "execution_count": 176,
   "id": "696c61b7",
   "metadata": {
    "execution": {
     "iopub.execute_input": "2023-04-11T08:39:58.332621Z",
     "iopub.status.busy": "2023-04-11T08:39:58.331837Z",
     "iopub.status.idle": "2023-04-11T08:39:58.339532Z",
     "shell.execute_reply": "2023-04-11T08:39:58.338279Z"
    },
    "papermill": {
     "duration": 0.044549,
     "end_time": "2023-04-11T08:39:58.341757",
     "exception": false,
     "start_time": "2023-04-11T08:39:58.297208",
     "status": "completed"
    },
    "tags": []
   },
   "outputs": [
    {
     "data": {
      "text/plain": [
       "Index(['name', 'a', 'e', 'i', 'om', 'w', 'q', 'ad', 'per_y', 'data_arc',\n",
       "       'condition_code', 'n_obs_used', 'H', 'neo', 'pha', 'diameter', 'extent',\n",
       "       'albedo', 'rot_per', 'GM', 'BV', 'UB', 'IR', 'spec_B', 'spec_T', 'G',\n",
       "       'moid', 'class', 'n', 'per', 'ma'],\n",
       "      dtype='object')"
      ]
     },
     "execution_count": 176,
     "metadata": {},
     "output_type": "execute_result"
    }
   ],
   "source": [
    "df.columns"
   ]
  },
  {
   "cell_type": "code",
   "execution_count": 177,
   "id": "a33d7b8b",
   "metadata": {
    "execution": {
     "iopub.execute_input": "2023-04-11T08:39:58.410615Z",
     "iopub.status.busy": "2023-04-11T08:39:58.409473Z",
     "iopub.status.idle": "2023-04-11T08:39:58.416514Z",
     "shell.execute_reply": "2023-04-11T08:39:58.415429Z"
    },
    "papermill": {
     "duration": 0.043719,
     "end_time": "2023-04-11T08:39:58.418642",
     "exception": false,
     "start_time": "2023-04-11T08:39:58.374923",
     "status": "completed"
    },
    "tags": []
   },
   "outputs": [
    {
     "data": {
      "text/plain": [
       "31"
      ]
     },
     "execution_count": 177,
     "metadata": {},
     "output_type": "execute_result"
    }
   ],
   "source": [
    "len(df.columns)"
   ]
  },
  {
   "cell_type": "code",
   "execution_count": 178,
   "id": "4c3d9e1d",
   "metadata": {
    "execution": {
     "iopub.execute_input": "2023-04-11T08:39:58.686060Z",
     "iopub.status.busy": "2023-04-11T08:39:58.684958Z",
     "iopub.status.idle": "2023-04-11T08:39:58.792731Z",
     "shell.execute_reply": "2023-04-11T08:39:58.791578Z"
    },
    "papermill": {
     "duration": 0.144835,
     "end_time": "2023-04-11T08:39:58.795037",
     "exception": false,
     "start_time": "2023-04-11T08:39:58.650202",
     "status": "completed"
    },
    "tags": []
   },
   "outputs": [
    {
     "data": {
      "text/plain": [
       "Index(['obj_name', 'semi-major_axis(au)', 'eccentricity',\n",
       "       'x-y_inclination(deg)', 'longitude_asc_node', 'argument_perihelion',\n",
       "       'perihelion_dist(au)', 'aphelion_dist(au)', 'orbital_period',\n",
       "       'data_arc(d)', 'condition_code', 'n_obs_used', 'abs_mag_para',\n",
       "       'near_earth_obj', 'physically_hazardous_asteroid', 'diameter',\n",
       "       'axial_ellipsoid_dim(Km)', 'geo_albedo', 'rot_per(h)',\n",
       "       'std_gravitational_para', 'bv_color_mag_diff', 'ub_color_mag_diff',\n",
       "       'ir_color_mag_diff', 'SMASSII_spec_tax_type', 'Tholen_spec_tax_type',\n",
       "       'mag_slope_para', 'earth_min_oribit_inter_dist(au)', 'class',\n",
       "       'mean_motion(deg/d)', 'orbital_period(d)', 'mean_anomaly(deg)'],\n",
       "      dtype='object')"
      ]
     },
     "execution_count": 178,
     "metadata": {},
     "output_type": "execute_result"
    }
   ],
   "source": [
    "new_columns_dict={'name':'obj_name','a':'semi-major_axis(au)','e':'eccentricity',\n",
    "                    'i':'x-y_inclination(deg)','om':'longitude_asc_node','w':'argument_perihelion',\n",
    "                    'q':'perihelion_dist(au)','ad':'aphelion_dist(au)', 'per_y':'orbital_period',\n",
    "                   'data_arc':'data_arc(d)','condition_code':'condition_code','n_obs_used':'n_obs_used',\n",
    "                   'H':'abs_mag_para', 'neo':'near_earth_obj', 'pha':'physically_hazardous_asteroid',\n",
    "                   'diameter':'diameter','extent':'axial_ellipsoid_dim(Km)','albedo':'geo_albedo',\n",
    "                   'rot_per':'rot_per(h)','GM':'std_gravitational_para','BV':'bv_color_mag_diff',\n",
    "                   'UB':'ub_color_mag_diff','IR':'ir_color_mag_diff','spec_B':'SMASSII_spec_tax_type',\n",
    "                   'spec_T':'Tholen_spec_tax_type','G':'mag_slope_para','moid':'earth_min_oribit_inter_dist(au)',\n",
    "                   'class':'class','n':'mean_motion(deg/d)','per':'orbital_period(d)','ma':'mean_anomaly(deg)'}\n",
    "df=df.rename(columns=new_columns_dict)\n",
    "df.columns"
   ]
  },
  {
   "cell_type": "code",
   "execution_count": 179,
   "id": "b2576250",
   "metadata": {
    "execution": {
     "iopub.execute_input": "2023-04-11T08:39:58.932807Z",
     "iopub.status.busy": "2023-04-11T08:39:58.932038Z",
     "iopub.status.idle": "2023-04-11T08:39:59.591929Z",
     "shell.execute_reply": "2023-04-11T08:39:59.591123Z"
    },
    "papermill": {
     "duration": 0.696869,
     "end_time": "2023-04-11T08:39:59.594045",
     "exception": false,
     "start_time": "2023-04-11T08:39:58.897176",
     "status": "completed"
    },
    "tags": []
   },
   "outputs": [
    {
     "data": {
      "text/html": [
       "<div>\n",
       "<style scoped>\n",
       "    .dataframe tbody tr th:only-of-type {\n",
       "        vertical-align: middle;\n",
       "    }\n",
       "\n",
       "    .dataframe tbody tr th {\n",
       "        vertical-align: top;\n",
       "    }\n",
       "\n",
       "    .dataframe thead th {\n",
       "        text-align: right;\n",
       "    }\n",
       "</style>\n",
       "<table border=\"1\" class=\"dataframe\">\n",
       "  <thead>\n",
       "    <tr style=\"text-align: right;\">\n",
       "      <th></th>\n",
       "      <th>count</th>\n",
       "      <th>%</th>\n",
       "    </tr>\n",
       "  </thead>\n",
       "  <tbody>\n",
       "    <tr>\n",
       "      <th>eccentricity</th>\n",
       "      <td>0</td>\n",
       "      <td>0.000000</td>\n",
       "    </tr>\n",
       "    <tr>\n",
       "      <th>x-y_inclination(deg)</th>\n",
       "      <td>0</td>\n",
       "      <td>0.000000</td>\n",
       "    </tr>\n",
       "    <tr>\n",
       "      <th>longitude_asc_node</th>\n",
       "      <td>0</td>\n",
       "      <td>0.000000</td>\n",
       "    </tr>\n",
       "    <tr>\n",
       "      <th>argument_perihelion</th>\n",
       "      <td>0</td>\n",
       "      <td>0.000000</td>\n",
       "    </tr>\n",
       "    <tr>\n",
       "      <th>perihelion_dist(au)</th>\n",
       "      <td>0</td>\n",
       "      <td>0.000000</td>\n",
       "    </tr>\n",
       "    <tr>\n",
       "      <th>class</th>\n",
       "      <td>0</td>\n",
       "      <td>0.000000</td>\n",
       "    </tr>\n",
       "    <tr>\n",
       "      <th>n_obs_used</th>\n",
       "      <td>0</td>\n",
       "      <td>0.000000</td>\n",
       "    </tr>\n",
       "    <tr>\n",
       "      <th>orbital_period</th>\n",
       "      <td>1</td>\n",
       "      <td>0.000119</td>\n",
       "    </tr>\n",
       "    <tr>\n",
       "      <th>semi-major_axis(au)</th>\n",
       "      <td>2</td>\n",
       "      <td>0.000238</td>\n",
       "    </tr>\n",
       "    <tr>\n",
       "      <th>mean_motion(deg/d)</th>\n",
       "      <td>2</td>\n",
       "      <td>0.000238</td>\n",
       "    </tr>\n",
       "    <tr>\n",
       "      <th>aphelion_dist(au)</th>\n",
       "      <td>6</td>\n",
       "      <td>0.000715</td>\n",
       "    </tr>\n",
       "    <tr>\n",
       "      <th>near_earth_obj</th>\n",
       "      <td>6</td>\n",
       "      <td>0.000715</td>\n",
       "    </tr>\n",
       "    <tr>\n",
       "      <th>orbital_period(d)</th>\n",
       "      <td>6</td>\n",
       "      <td>0.000715</td>\n",
       "    </tr>\n",
       "    <tr>\n",
       "      <th>mean_anomaly(deg)</th>\n",
       "      <td>8</td>\n",
       "      <td>0.000953</td>\n",
       "    </tr>\n",
       "    <tr>\n",
       "      <th>condition_code</th>\n",
       "      <td>867</td>\n",
       "      <td>0.103249</td>\n",
       "    </tr>\n",
       "    <tr>\n",
       "      <th>abs_mag_para</th>\n",
       "      <td>2689</td>\n",
       "      <td>0.320228</td>\n",
       "    </tr>\n",
       "    <tr>\n",
       "      <th>data_arc(d)</th>\n",
       "      <td>15474</td>\n",
       "      <td>1.842770</td>\n",
       "    </tr>\n",
       "    <tr>\n",
       "      <th>physically_hazardous_asteroid</th>\n",
       "      <td>16442</td>\n",
       "      <td>1.958048</td>\n",
       "    </tr>\n",
       "    <tr>\n",
       "      <th>earth_min_oribit_inter_dist(au)</th>\n",
       "      <td>16442</td>\n",
       "      <td>1.958048</td>\n",
       "    </tr>\n",
       "    <tr>\n",
       "      <th>diameter</th>\n",
       "      <td>702078</td>\n",
       "      <td>83.609181</td>\n",
       "    </tr>\n",
       "    <tr>\n",
       "      <th>geo_albedo</th>\n",
       "      <td>703305</td>\n",
       "      <td>83.755302</td>\n",
       "    </tr>\n",
       "    <tr>\n",
       "      <th>obj_name</th>\n",
       "      <td>817747</td>\n",
       "      <td>97.383990</td>\n",
       "    </tr>\n",
       "    <tr>\n",
       "      <th>rot_per(h)</th>\n",
       "      <td>820918</td>\n",
       "      <td>97.761619</td>\n",
       "    </tr>\n",
       "    <tr>\n",
       "      <th>SMASSII_spec_tax_type</th>\n",
       "      <td>838048</td>\n",
       "      <td>99.801599</td>\n",
       "    </tr>\n",
       "    <tr>\n",
       "      <th>bv_color_mag_diff</th>\n",
       "      <td>838693</td>\n",
       "      <td>99.878411</td>\n",
       "    </tr>\n",
       "    <tr>\n",
       "      <th>Tholen_spec_tax_type</th>\n",
       "      <td>838734</td>\n",
       "      <td>99.883294</td>\n",
       "    </tr>\n",
       "    <tr>\n",
       "      <th>ub_color_mag_diff</th>\n",
       "      <td>838735</td>\n",
       "      <td>99.883413</td>\n",
       "    </tr>\n",
       "    <tr>\n",
       "      <th>mag_slope_para</th>\n",
       "      <td>839595</td>\n",
       "      <td>99.985829</td>\n",
       "    </tr>\n",
       "    <tr>\n",
       "      <th>axial_ellipsoid_dim(Km)</th>\n",
       "      <td>839696</td>\n",
       "      <td>99.997856</td>\n",
       "    </tr>\n",
       "    <tr>\n",
       "      <th>std_gravitational_para</th>\n",
       "      <td>839700</td>\n",
       "      <td>99.998333</td>\n",
       "    </tr>\n",
       "    <tr>\n",
       "      <th>ir_color_mag_diff</th>\n",
       "      <td>839713</td>\n",
       "      <td>99.999881</td>\n",
       "    </tr>\n",
       "  </tbody>\n",
       "</table>\n",
       "</div>"
      ],
      "text/plain": [
       "                                  count          %\n",
       "eccentricity                          0   0.000000\n",
       "x-y_inclination(deg)                  0   0.000000\n",
       "longitude_asc_node                    0   0.000000\n",
       "argument_perihelion                   0   0.000000\n",
       "perihelion_dist(au)                   0   0.000000\n",
       "class                                 0   0.000000\n",
       "n_obs_used                            0   0.000000\n",
       "orbital_period                        1   0.000119\n",
       "semi-major_axis(au)                   2   0.000238\n",
       "mean_motion(deg/d)                    2   0.000238\n",
       "aphelion_dist(au)                     6   0.000715\n",
       "near_earth_obj                        6   0.000715\n",
       "orbital_period(d)                     6   0.000715\n",
       "mean_anomaly(deg)                     8   0.000953\n",
       "condition_code                      867   0.103249\n",
       "abs_mag_para                       2689   0.320228\n",
       "data_arc(d)                       15474   1.842770\n",
       "physically_hazardous_asteroid     16442   1.958048\n",
       "earth_min_oribit_inter_dist(au)   16442   1.958048\n",
       "diameter                         702078  83.609181\n",
       "geo_albedo                       703305  83.755302\n",
       "obj_name                         817747  97.383990\n",
       "rot_per(h)                       820918  97.761619\n",
       "SMASSII_spec_tax_type            838048  99.801599\n",
       "bv_color_mag_diff                838693  99.878411\n",
       "Tholen_spec_tax_type             838734  99.883294\n",
       "ub_color_mag_diff                838735  99.883413\n",
       "mag_slope_para                   839595  99.985829\n",
       "axial_ellipsoid_dim(Km)          839696  99.997856\n",
       "std_gravitational_para           839700  99.998333\n",
       "ir_color_mag_diff                839713  99.999881"
      ]
     },
     "execution_count": 179,
     "metadata": {},
     "output_type": "execute_result"
    }
   ],
   "source": [
    "#count of missing values\n",
    "missing=pd.concat([pd.isnull(df).sum(),100*pd.isnull(df).mean()],axis=1)\n",
    "missing.columns=['count','%']\n",
    "missing.sort_values('count')"
   ]
  },
  {
   "cell_type": "code",
   "execution_count": 180,
   "id": "a0eb5828",
   "metadata": {
    "execution": {
     "iopub.execute_input": "2023-04-11T08:39:59.733583Z",
     "iopub.status.busy": "2023-04-11T08:39:59.732749Z",
     "iopub.status.idle": "2023-04-11T08:39:59.770426Z",
     "shell.execute_reply": "2023-04-11T08:39:59.769278Z"
    },
    "papermill": {
     "duration": 0.07607,
     "end_time": "2023-04-11T08:39:59.772830",
     "exception": false,
     "start_time": "2023-04-11T08:39:59.696760",
     "status": "completed"
    },
    "tags": []
   },
   "outputs": [
    {
     "data": {
      "text/plain": [
       "839714"
      ]
     },
     "execution_count": 180,
     "metadata": {},
     "output_type": "execute_result"
    }
   ],
   "source": [
    "df['longitude_asc_node'].notnull().sum()"
   ]
  },
  {
   "cell_type": "code",
   "execution_count": 181,
   "id": "b15b2957",
   "metadata": {
    "execution": {
     "iopub.execute_input": "2023-04-11T08:39:59.911826Z",
     "iopub.status.busy": "2023-04-11T08:39:59.910901Z",
     "iopub.status.idle": "2023-04-11T08:40:00.029292Z",
     "shell.execute_reply": "2023-04-11T08:40:00.028404Z"
    },
    "papermill": {
     "duration": 0.155832,
     "end_time": "2023-04-11T08:40:00.031483",
     "exception": false,
     "start_time": "2023-04-11T08:39:59.875651",
     "status": "completed"
    },
    "tags": []
   },
   "outputs": [
    {
     "data": {
      "text/plain": [
       "839714"
      ]
     },
     "execution_count": 181,
     "metadata": {},
     "output_type": "execute_result"
    }
   ],
   "source": [
    "#removing rows where diamter values are missing\n",
    "df=df.dropna(axis=0,subset=['longitude_asc_node'])\n",
    "len(df.index)"
   ]
  },
  {
   "cell_type": "markdown",
   "id": "0cb47abe",
   "metadata": {
    "papermill": {
     "duration": 0.034593,
     "end_time": "2023-04-11T08:40:00.101372",
     "exception": false,
     "start_time": "2023-04-11T08:40:00.066779",
     "status": "completed"
    },
    "tags": []
   },
   "source": [
    "The total number of rows are matching the number of rows with non null diameter values\n",
    "\n"
   ]
  },
  {
   "cell_type": "code",
   "execution_count": 182,
   "id": "46c653f6",
   "metadata": {
    "execution": {
     "iopub.execute_input": "2023-04-11T08:40:00.171473Z",
     "iopub.status.busy": "2023-04-11T08:40:00.171043Z",
     "iopub.status.idle": "2023-04-11T08:40:00.300659Z",
     "shell.execute_reply": "2023-04-11T08:40:00.299498Z"
    },
    "papermill": {
     "duration": 0.167696,
     "end_time": "2023-04-11T08:40:00.303131",
     "exception": false,
     "start_time": "2023-04-11T08:40:00.135435",
     "status": "completed"
    },
    "tags": []
   },
   "outputs": [
    {
     "data": {
      "text/html": [
       "<div>\n",
       "<style scoped>\n",
       "    .dataframe tbody tr th:only-of-type {\n",
       "        vertical-align: middle;\n",
       "    }\n",
       "\n",
       "    .dataframe tbody tr th {\n",
       "        vertical-align: top;\n",
       "    }\n",
       "\n",
       "    .dataframe thead th {\n",
       "        text-align: right;\n",
       "    }\n",
       "</style>\n",
       "<table border=\"1\" class=\"dataframe\">\n",
       "  <thead>\n",
       "    <tr style=\"text-align: right;\">\n",
       "      <th></th>\n",
       "      <th>count</th>\n",
       "      <th>%</th>\n",
       "    </tr>\n",
       "  </thead>\n",
       "  <tbody>\n",
       "    <tr>\n",
       "      <th>eccentricity</th>\n",
       "      <td>0</td>\n",
       "      <td>0.000000</td>\n",
       "    </tr>\n",
       "    <tr>\n",
       "      <th>x-y_inclination(deg)</th>\n",
       "      <td>0</td>\n",
       "      <td>0.000000</td>\n",
       "    </tr>\n",
       "    <tr>\n",
       "      <th>longitude_asc_node</th>\n",
       "      <td>0</td>\n",
       "      <td>0.000000</td>\n",
       "    </tr>\n",
       "    <tr>\n",
       "      <th>argument_perihelion</th>\n",
       "      <td>0</td>\n",
       "      <td>0.000000</td>\n",
       "    </tr>\n",
       "    <tr>\n",
       "      <th>perihelion_dist(au)</th>\n",
       "      <td>0</td>\n",
       "      <td>0.000000</td>\n",
       "    </tr>\n",
       "    <tr>\n",
       "      <th>class</th>\n",
       "      <td>0</td>\n",
       "      <td>0.000000</td>\n",
       "    </tr>\n",
       "    <tr>\n",
       "      <th>n_obs_used</th>\n",
       "      <td>0</td>\n",
       "      <td>0.000000</td>\n",
       "    </tr>\n",
       "    <tr>\n",
       "      <th>orbital_period</th>\n",
       "      <td>1</td>\n",
       "      <td>0.000119</td>\n",
       "    </tr>\n",
       "    <tr>\n",
       "      <th>semi-major_axis(au)</th>\n",
       "      <td>2</td>\n",
       "      <td>0.000238</td>\n",
       "    </tr>\n",
       "    <tr>\n",
       "      <th>mean_motion(deg/d)</th>\n",
       "      <td>2</td>\n",
       "      <td>0.000238</td>\n",
       "    </tr>\n",
       "    <tr>\n",
       "      <th>aphelion_dist(au)</th>\n",
       "      <td>6</td>\n",
       "      <td>0.000715</td>\n",
       "    </tr>\n",
       "    <tr>\n",
       "      <th>near_earth_obj</th>\n",
       "      <td>6</td>\n",
       "      <td>0.000715</td>\n",
       "    </tr>\n",
       "    <tr>\n",
       "      <th>orbital_period(d)</th>\n",
       "      <td>6</td>\n",
       "      <td>0.000715</td>\n",
       "    </tr>\n",
       "    <tr>\n",
       "      <th>mean_anomaly(deg)</th>\n",
       "      <td>8</td>\n",
       "      <td>0.000953</td>\n",
       "    </tr>\n",
       "    <tr>\n",
       "      <th>condition_code</th>\n",
       "      <td>867</td>\n",
       "      <td>0.103249</td>\n",
       "    </tr>\n",
       "    <tr>\n",
       "      <th>abs_mag_para</th>\n",
       "      <td>2689</td>\n",
       "      <td>0.320228</td>\n",
       "    </tr>\n",
       "    <tr>\n",
       "      <th>data_arc(d)</th>\n",
       "      <td>15474</td>\n",
       "      <td>1.842770</td>\n",
       "    </tr>\n",
       "    <tr>\n",
       "      <th>physically_hazardous_asteroid</th>\n",
       "      <td>16442</td>\n",
       "      <td>1.958048</td>\n",
       "    </tr>\n",
       "    <tr>\n",
       "      <th>earth_min_oribit_inter_dist(au)</th>\n",
       "      <td>16442</td>\n",
       "      <td>1.958048</td>\n",
       "    </tr>\n",
       "    <tr>\n",
       "      <th>diameter</th>\n",
       "      <td>702078</td>\n",
       "      <td>83.609181</td>\n",
       "    </tr>\n",
       "    <tr>\n",
       "      <th>geo_albedo</th>\n",
       "      <td>703305</td>\n",
       "      <td>83.755302</td>\n",
       "    </tr>\n",
       "    <tr>\n",
       "      <th>obj_name</th>\n",
       "      <td>817747</td>\n",
       "      <td>97.383990</td>\n",
       "    </tr>\n",
       "    <tr>\n",
       "      <th>rot_per(h)</th>\n",
       "      <td>820918</td>\n",
       "      <td>97.761619</td>\n",
       "    </tr>\n",
       "    <tr>\n",
       "      <th>SMASSII_spec_tax_type</th>\n",
       "      <td>838048</td>\n",
       "      <td>99.801599</td>\n",
       "    </tr>\n",
       "    <tr>\n",
       "      <th>bv_color_mag_diff</th>\n",
       "      <td>838693</td>\n",
       "      <td>99.878411</td>\n",
       "    </tr>\n",
       "    <tr>\n",
       "      <th>Tholen_spec_tax_type</th>\n",
       "      <td>838734</td>\n",
       "      <td>99.883294</td>\n",
       "    </tr>\n",
       "    <tr>\n",
       "      <th>ub_color_mag_diff</th>\n",
       "      <td>838735</td>\n",
       "      <td>99.883413</td>\n",
       "    </tr>\n",
       "    <tr>\n",
       "      <th>mag_slope_para</th>\n",
       "      <td>839595</td>\n",
       "      <td>99.985829</td>\n",
       "    </tr>\n",
       "    <tr>\n",
       "      <th>axial_ellipsoid_dim(Km)</th>\n",
       "      <td>839696</td>\n",
       "      <td>99.997856</td>\n",
       "    </tr>\n",
       "    <tr>\n",
       "      <th>std_gravitational_para</th>\n",
       "      <td>839700</td>\n",
       "      <td>99.998333</td>\n",
       "    </tr>\n",
       "    <tr>\n",
       "      <th>ir_color_mag_diff</th>\n",
       "      <td>839713</td>\n",
       "      <td>99.999881</td>\n",
       "    </tr>\n",
       "  </tbody>\n",
       "</table>\n",
       "</div>"
      ],
      "text/plain": [
       "                                  count          %\n",
       "eccentricity                          0   0.000000\n",
       "x-y_inclination(deg)                  0   0.000000\n",
       "longitude_asc_node                    0   0.000000\n",
       "argument_perihelion                   0   0.000000\n",
       "perihelion_dist(au)                   0   0.000000\n",
       "class                                 0   0.000000\n",
       "n_obs_used                            0   0.000000\n",
       "orbital_period                        1   0.000119\n",
       "semi-major_axis(au)                   2   0.000238\n",
       "mean_motion(deg/d)                    2   0.000238\n",
       "aphelion_dist(au)                     6   0.000715\n",
       "near_earth_obj                        6   0.000715\n",
       "orbital_period(d)                     6   0.000715\n",
       "mean_anomaly(deg)                     8   0.000953\n",
       "condition_code                      867   0.103249\n",
       "abs_mag_para                       2689   0.320228\n",
       "data_arc(d)                       15474   1.842770\n",
       "physically_hazardous_asteroid     16442   1.958048\n",
       "earth_min_oribit_inter_dist(au)   16442   1.958048\n",
       "diameter                         702078  83.609181\n",
       "geo_albedo                       703305  83.755302\n",
       "obj_name                         817747  97.383990\n",
       "rot_per(h)                       820918  97.761619\n",
       "SMASSII_spec_tax_type            838048  99.801599\n",
       "bv_color_mag_diff                838693  99.878411\n",
       "Tholen_spec_tax_type             838734  99.883294\n",
       "ub_color_mag_diff                838735  99.883413\n",
       "mag_slope_para                   839595  99.985829\n",
       "axial_ellipsoid_dim(Km)          839696  99.997856\n",
       "std_gravitational_para           839700  99.998333\n",
       "ir_color_mag_diff                839713  99.999881"
      ]
     },
     "execution_count": 182,
     "metadata": {},
     "output_type": "execute_result"
    }
   ],
   "source": [
    "#New percentage of missing values\n",
    "missing2=pd.concat([pd.isnull(df).sum(),100*pd.isnull(df).mean()],axis=1)\n",
    "missing2.columns=['count','%']\n",
    "missing2.sort_values('count')\n",
    "                   "
   ]
  },
  {
   "cell_type": "code",
   "execution_count": 183,
   "id": "3eb1d0a1",
   "metadata": {
    "execution": {
     "iopub.execute_input": "2023-04-11T08:40:00.441626Z",
     "iopub.status.busy": "2023-04-11T08:40:00.441162Z",
     "iopub.status.idle": "2023-04-11T08:40:00.464843Z",
     "shell.execute_reply": "2023-04-11T08:40:00.464024Z"
    },
    "papermill": {
     "duration": 0.061348,
     "end_time": "2023-04-11T08:40:00.466852",
     "exception": false,
     "start_time": "2023-04-11T08:40:00.405504",
     "status": "completed"
    },
    "tags": []
   },
   "outputs": [
    {
     "data": {
      "text/plain": [
       "19"
      ]
     },
     "execution_count": 183,
     "metadata": {},
     "output_type": "execute_result"
    }
   ],
   "source": [
    "#columns to drop\n",
    "drop_list=['abs_mag_para','geo_albedo','obj_name','rot_per(h)','SMASSII_spec_tax_type',\n",
    "             'bv_color_mag_diff','Tholen_spec_tax_type','ub_color_mag_diff','mag_slope_para',\n",
    "             'axial_ellipsoid_dim(Km)','std_gravitational_para','ir_color_mag_diff']\n",
    "df.drop(drop_list,axis=1,inplace=True)\n",
    "len(df.columns)"
   ]
  },
  {
   "cell_type": "code",
   "execution_count": 184,
   "id": "061bffcb",
   "metadata": {
    "execution": {
     "iopub.execute_input": "2023-04-11T08:40:00.673409Z",
     "iopub.status.busy": "2023-04-11T08:40:00.672687Z",
     "iopub.status.idle": "2023-04-11T08:40:00.680219Z",
     "shell.execute_reply": "2023-04-11T08:40:00.679293Z"
    },
    "papermill": {
     "duration": 0.044871,
     "end_time": "2023-04-11T08:40:00.682169",
     "exception": false,
     "start_time": "2023-04-11T08:40:00.637298",
     "status": "completed"
    },
    "tags": []
   },
   "outputs": [
    {
     "data": {
      "text/plain": [
       "semi-major_axis(au)                float64\n",
       "eccentricity                       float64\n",
       "x-y_inclination(deg)               float64\n",
       "longitude_asc_node                 float64\n",
       "argument_perihelion                float64\n",
       "perihelion_dist(au)                float64\n",
       "aphelion_dist(au)                  float64\n",
       "orbital_period                     float64\n",
       "data_arc(d)                        float64\n",
       "condition_code                      object\n",
       "n_obs_used                           int64\n",
       "near_earth_obj                      object\n",
       "physically_hazardous_asteroid       object\n",
       "diameter                            object\n",
       "earth_min_oribit_inter_dist(au)    float64\n",
       "class                               object\n",
       "mean_motion(deg/d)                 float64\n",
       "orbital_period(d)                  float64\n",
       "mean_anomaly(deg)                  float64\n",
       "dtype: object"
      ]
     },
     "execution_count": 184,
     "metadata": {},
     "output_type": "execute_result"
    }
   ],
   "source": [
    "#data types\n",
    "df.dtypes"
   ]
  },
  {
   "cell_type": "code",
   "execution_count": 185,
   "id": "ebd7c1de",
   "metadata": {
    "execution": {
     "iopub.execute_input": "2023-04-11T08:40:00.822508Z",
     "iopub.status.busy": "2023-04-11T08:40:00.821779Z",
     "iopub.status.idle": "2023-04-11T08:40:00.845086Z",
     "shell.execute_reply": "2023-04-11T08:40:00.843820Z"
    },
    "papermill": {
     "duration": 0.061662,
     "end_time": "2023-04-11T08:40:00.847528",
     "exception": false,
     "start_time": "2023-04-11T08:40:00.785866",
     "status": "completed"
    },
    "tags": []
   },
   "outputs": [
    {
     "data": {
      "text/html": [
       "<div>\n",
       "<style scoped>\n",
       "    .dataframe tbody tr th:only-of-type {\n",
       "        vertical-align: middle;\n",
       "    }\n",
       "\n",
       "    .dataframe tbody tr th {\n",
       "        vertical-align: top;\n",
       "    }\n",
       "\n",
       "    .dataframe thead th {\n",
       "        text-align: right;\n",
       "    }\n",
       "</style>\n",
       "<table border=\"1\" class=\"dataframe\">\n",
       "  <thead>\n",
       "    <tr style=\"text-align: right;\">\n",
       "      <th></th>\n",
       "      <th>condition_code</th>\n",
       "      <th>near_earth_obj</th>\n",
       "      <th>physically_hazardous_asteroid</th>\n",
       "      <th>diameter</th>\n",
       "      <th>class</th>\n",
       "    </tr>\n",
       "  </thead>\n",
       "  <tbody>\n",
       "    <tr>\n",
       "      <th>0</th>\n",
       "      <td>0</td>\n",
       "      <td>N</td>\n",
       "      <td>N</td>\n",
       "      <td>939.4</td>\n",
       "      <td>MBA</td>\n",
       "    </tr>\n",
       "    <tr>\n",
       "      <th>1</th>\n",
       "      <td>0</td>\n",
       "      <td>N</td>\n",
       "      <td>N</td>\n",
       "      <td>545</td>\n",
       "      <td>MBA</td>\n",
       "    </tr>\n",
       "    <tr>\n",
       "      <th>2</th>\n",
       "      <td>0</td>\n",
       "      <td>N</td>\n",
       "      <td>N</td>\n",
       "      <td>246.596</td>\n",
       "      <td>MBA</td>\n",
       "    </tr>\n",
       "    <tr>\n",
       "      <th>3</th>\n",
       "      <td>0</td>\n",
       "      <td>N</td>\n",
       "      <td>N</td>\n",
       "      <td>525.4</td>\n",
       "      <td>MBA</td>\n",
       "    </tr>\n",
       "    <tr>\n",
       "      <th>4</th>\n",
       "      <td>0</td>\n",
       "      <td>N</td>\n",
       "      <td>N</td>\n",
       "      <td>106.699</td>\n",
       "      <td>MBA</td>\n",
       "    </tr>\n",
       "  </tbody>\n",
       "</table>\n",
       "</div>"
      ],
      "text/plain": [
       "  condition_code near_earth_obj physically_hazardous_asteroid diameter class\n",
       "0              0              N                             N    939.4   MBA\n",
       "1              0              N                             N      545   MBA\n",
       "2              0              N                             N  246.596   MBA\n",
       "3              0              N                             N    525.4   MBA\n",
       "4              0              N                             N  106.699   MBA"
      ]
     },
     "execution_count": 185,
     "metadata": {},
     "output_type": "execute_result"
    }
   ],
   "source": [
    "df.select_dtypes('object').head()"
   ]
  },
  {
   "cell_type": "code",
   "execution_count": 16,
   "id": "36399444",
   "metadata": {
    "execution": {
     "iopub.execute_input": "2023-04-11T08:40:00.989856Z",
     "iopub.status.busy": "2023-04-11T08:40:00.989129Z",
     "iopub.status.idle": "2023-04-11T08:40:00.993570Z",
     "shell.execute_reply": "2023-04-11T08:40:00.992462Z"
    },
    "papermill": {
     "duration": 0.043455,
     "end_time": "2023-04-11T08:40:00.995923",
     "exception": false,
     "start_time": "2023-04-11T08:40:00.952468",
     "status": "completed"
    },
    "tags": []
   },
   "outputs": [],
   "source": [
    "#converting diameter to numerical value\n",
    "#df['diameter']=pd.to_numeric(df['diameter'])"
   ]
  },
  {
   "cell_type": "code",
   "execution_count": 186,
   "id": "640da2a2",
   "metadata": {
    "execution": {
     "iopub.execute_input": "2023-04-11T08:40:01.136486Z",
     "iopub.status.busy": "2023-04-11T08:40:01.135810Z",
     "iopub.status.idle": "2023-04-11T08:40:01.141636Z",
     "shell.execute_reply": "2023-04-11T08:40:01.140869Z"
    },
    "papermill": {
     "duration": 0.044145,
     "end_time": "2023-04-11T08:40:01.143564",
     "exception": false,
     "start_time": "2023-04-11T08:40:01.099419",
     "status": "completed"
    },
    "tags": []
   },
   "outputs": [
    {
     "data": {
      "text/plain": [
       "150.0456663982905"
      ]
     },
     "execution_count": 186,
     "metadata": {},
     "output_type": "execute_result"
    }
   ],
   "source": [
    "#checking the value at position 15\n",
    "df['longitude_asc_node'].iloc[15]"
   ]
  },
  {
   "cell_type": "code",
   "execution_count": 187,
   "id": "58372506",
   "metadata": {
    "execution": {
     "iopub.execute_input": "2023-04-11T08:40:01.283558Z",
     "iopub.status.busy": "2023-04-11T08:40:01.282767Z",
     "iopub.status.idle": "2023-04-11T08:40:01.292217Z",
     "shell.execute_reply": "2023-04-11T08:40:01.291060Z"
    },
    "papermill": {
     "duration": 0.047792,
     "end_time": "2023-04-11T08:40:01.294585",
     "exception": false,
     "start_time": "2023-04-11T08:40:01.246793",
     "status": "completed"
    },
    "tags": []
   },
   "outputs": [],
   "source": [
    "df.at[15,'longitude_asc_node']=226"
   ]
  },
  {
   "cell_type": "code",
   "execution_count": 188,
   "id": "a79b3d08",
   "metadata": {
    "execution": {
     "iopub.execute_input": "2023-04-11T08:40:01.366350Z",
     "iopub.status.busy": "2023-04-11T08:40:01.365526Z",
     "iopub.status.idle": "2023-04-11T08:40:01.374544Z",
     "shell.execute_reply": "2023-04-11T08:40:01.372525Z"
    },
    "papermill": {
     "duration": 0.048015,
     "end_time": "2023-04-11T08:40:01.377146",
     "exception": false,
     "start_time": "2023-04-11T08:40:01.329131",
     "status": "completed"
    },
    "tags": []
   },
   "outputs": [
    {
     "data": {
      "text/plain": [
       "226.0"
      ]
     },
     "execution_count": 188,
     "metadata": {},
     "output_type": "execute_result"
    }
   ],
   "source": [
    "#checking the value again\n",
    "df['longitude_asc_node'].iloc[15]"
   ]
  },
  {
   "cell_type": "code",
   "execution_count": 189,
   "id": "35f3e728",
   "metadata": {
    "execution": {
     "iopub.execute_input": "2023-04-11T08:40:01.462817Z",
     "iopub.status.busy": "2023-04-11T08:40:01.461839Z",
     "iopub.status.idle": "2023-04-11T08:40:01.501293Z",
     "shell.execute_reply": "2023-04-11T08:40:01.500050Z"
    },
    "papermill": {
     "duration": 0.080968,
     "end_time": "2023-04-11T08:40:01.503958",
     "exception": false,
     "start_time": "2023-04-11T08:40:01.422990",
     "status": "completed"
    },
    "tags": []
   },
   "outputs": [],
   "source": [
    "df['longitude_asc_node']=pd.to_numeric(df['longitude_asc_node'])"
   ]
  },
  {
   "cell_type": "code",
   "execution_count": 190,
   "id": "7a27651c",
   "metadata": {
    "execution": {
     "iopub.execute_input": "2023-04-11T08:40:01.820114Z",
     "iopub.status.busy": "2023-04-11T08:40:01.819511Z",
     "iopub.status.idle": "2023-04-11T08:40:01.835662Z",
     "shell.execute_reply": "2023-04-11T08:40:01.834472Z"
    },
    "papermill": {
     "duration": 0.056094,
     "end_time": "2023-04-11T08:40:01.838009",
     "exception": false,
     "start_time": "2023-04-11T08:40:01.781915",
     "status": "completed"
    },
    "tags": []
   },
   "outputs": [
    {
     "data": {
      "text/plain": [
       "array([0, 2, 1, 4, 3, 5, nan, '0', '1', '2', '3', '4', '8', '9', '7', '6',\n",
       "       '5', 'E', 9.0, 7.0, 6.0, 8.0, 'D'], dtype=object)"
      ]
     },
     "execution_count": 190,
     "metadata": {},
     "output_type": "execute_result"
    }
   ],
   "source": [
    "df['condition_code'].unique()"
   ]
  },
  {
   "cell_type": "code",
   "execution_count": 191,
   "id": "a96993eb",
   "metadata": {
    "execution": {
     "iopub.execute_input": "2023-04-11T08:40:01.913690Z",
     "iopub.status.busy": "2023-04-11T08:40:01.913179Z",
     "iopub.status.idle": "2023-04-11T08:40:01.934584Z",
     "shell.execute_reply": "2023-04-11T08:40:01.933458Z"
    },
    "papermill": {
     "duration": 0.060864,
     "end_time": "2023-04-11T08:40:01.936740",
     "exception": false,
     "start_time": "2023-04-11T08:40:01.875876",
     "status": "completed"
    },
    "tags": []
   },
   "outputs": [
    {
     "data": {
      "text/plain": [
       "array(['N', 'Y', nan], dtype=object)"
      ]
     },
     "execution_count": 191,
     "metadata": {},
     "output_type": "execute_result"
    }
   ],
   "source": [
    "df['near_earth_obj'].unique()"
   ]
  },
  {
   "cell_type": "code",
   "execution_count": 192,
   "id": "ae03b63a",
   "metadata": {
    "execution": {
     "iopub.execute_input": "2023-04-11T08:40:02.014305Z",
     "iopub.status.busy": "2023-04-11T08:40:02.013385Z",
     "iopub.status.idle": "2023-04-11T08:40:02.032160Z",
     "shell.execute_reply": "2023-04-11T08:40:02.030948Z"
    },
    "papermill": {
     "duration": 0.060741,
     "end_time": "2023-04-11T08:40:02.034521",
     "exception": false,
     "start_time": "2023-04-11T08:40:01.973780",
     "status": "completed"
    },
    "tags": []
   },
   "outputs": [
    {
     "data": {
      "text/plain": [
       "array(['N', 'Y', nan], dtype=object)"
      ]
     },
     "execution_count": 192,
     "metadata": {},
     "output_type": "execute_result"
    }
   ],
   "source": [
    "df['physically_hazardous_asteroid'].unique()"
   ]
  },
  {
   "cell_type": "code",
   "execution_count": 193,
   "id": "43eac4e4",
   "metadata": {
    "execution": {
     "iopub.execute_input": "2023-04-11T08:40:02.107761Z",
     "iopub.status.busy": "2023-04-11T08:40:02.107370Z",
     "iopub.status.idle": "2023-04-11T08:40:02.123716Z",
     "shell.execute_reply": "2023-04-11T08:40:02.122611Z"
    },
    "papermill": {
     "duration": 0.055968,
     "end_time": "2023-04-11T08:40:02.125792",
     "exception": false,
     "start_time": "2023-04-11T08:40:02.069824",
     "status": "completed"
    },
    "tags": []
   },
   "outputs": [
    {
     "data": {
      "text/plain": [
       "array(['MBA', 'OMB', 'MCA', 'AMO', 'IMB', 'TJN', 'CEN', 'APO', 'ATE',\n",
       "       'AST', 'TNO', 'IEO', 'HYA', 'PAA'], dtype=object)"
      ]
     },
     "execution_count": 193,
     "metadata": {},
     "output_type": "execute_result"
    }
   ],
   "source": [
    "df['class'].unique()"
   ]
  },
  {
   "cell_type": "code",
   "execution_count": 196,
   "id": "bdaa0848",
   "metadata": {
    "execution": {
     "iopub.execute_input": "2023-04-11T08:40:02.271862Z",
     "iopub.status.busy": "2023-04-11T08:40:02.270952Z",
     "iopub.status.idle": "2023-04-11T08:40:02.299740Z",
     "shell.execute_reply": "2023-04-11T08:40:02.298698Z"
    },
    "papermill": {
     "duration": 0.069209,
     "end_time": "2023-04-11T08:40:02.302511",
     "exception": false,
     "start_time": "2023-04-11T08:40:02.233302",
     "status": "completed"
    },
    "tags": []
   },
   "outputs": [
    {
     "data": {
      "text/plain": [
       "array([0, 1, 3, 2, 4, 5, 9, 7, 6, 8])"
      ]
     },
     "execution_count": 196,
     "metadata": {},
     "output_type": "execute_result"
    }
   ],
   "source": [
    "df = df.dropna()\n",
    "df['condition_code']=df['condition_code'].astype('int')\n",
    "df['condition_code'].unique()"
   ]
  },
  {
   "cell_type": "code",
   "execution_count": 197,
   "id": "47e06138",
   "metadata": {
    "execution": {
     "iopub.execute_input": "2023-04-11T08:40:02.588119Z",
     "iopub.status.busy": "2023-04-11T08:40:02.587424Z",
     "iopub.status.idle": "2023-04-11T08:40:02.600887Z",
     "shell.execute_reply": "2023-04-11T08:40:02.599881Z"
    },
    "papermill": {
     "duration": 0.052485,
     "end_time": "2023-04-11T08:40:02.602946",
     "exception": false,
     "start_time": "2023-04-11T08:40:02.550461",
     "status": "completed"
    },
    "tags": []
   },
   "outputs": [
    {
     "data": {
      "text/plain": [
       "N    136649\n",
       "Y       849\n",
       "Name: near_earth_obj, dtype: int64"
      ]
     },
     "execution_count": 197,
     "metadata": {},
     "output_type": "execute_result"
    }
   ],
   "source": [
    "df['near_earth_obj'].value_counts()"
   ]
  },
  {
   "cell_type": "code",
   "execution_count": 198,
   "id": "3a3695e8",
   "metadata": {
    "execution": {
     "iopub.execute_input": "2023-04-11T08:40:02.741877Z",
     "iopub.status.busy": "2023-04-11T08:40:02.741142Z",
     "iopub.status.idle": "2023-04-11T08:40:02.755054Z",
     "shell.execute_reply": "2023-04-11T08:40:02.753995Z"
    },
    "papermill": {
     "duration": 0.118907,
     "end_time": "2023-04-11T08:40:02.757267",
     "exception": false,
     "start_time": "2023-04-11T08:40:02.638360",
     "status": "completed"
    },
    "tags": []
   },
   "outputs": [
    {
     "data": {
      "text/plain": [
       "N    137278\n",
       "Y       220\n",
       "Name: physically_hazardous_asteroid, dtype: int64"
      ]
     },
     "execution_count": 198,
     "metadata": {},
     "output_type": "execute_result"
    }
   ],
   "source": [
    "df['physically_hazardous_asteroid'].value_counts()"
   ]
  },
  {
   "cell_type": "code",
   "execution_count": 199,
   "id": "154b0a69",
   "metadata": {
    "execution": {
     "iopub.execute_input": "2023-04-11T08:40:02.831256Z",
     "iopub.status.busy": "2023-04-11T08:40:02.830812Z",
     "iopub.status.idle": "2023-04-11T08:40:02.848338Z",
     "shell.execute_reply": "2023-04-11T08:40:02.847240Z"
    },
    "papermill": {
     "duration": 0.057464,
     "end_time": "2023-04-11T08:40:02.850502",
     "exception": false,
     "start_time": "2023-04-11T08:40:02.793038",
     "status": "completed"
    },
    "tags": []
   },
   "outputs": [
    {
     "data": {
      "text/plain": [
       "MBA    126265\n",
       "OMB      7500\n",
       "TJN      1874\n",
       "IMB       587\n",
       "APO       485\n",
       "MCA       354\n",
       "AMO       269\n",
       "ATE        95\n",
       "CEN        49\n",
       "TNO        13\n",
       "AST         7\n",
       "Name: class, dtype: int64"
      ]
     },
     "execution_count": 199,
     "metadata": {},
     "output_type": "execute_result"
    }
   ],
   "source": [
    "df['class'].value_counts()"
   ]
  },
  {
   "cell_type": "code",
   "execution_count": 200,
   "id": "d2cbc718",
   "metadata": {
    "execution": {
     "iopub.execute_input": "2023-04-11T08:40:03.072530Z",
     "iopub.status.busy": "2023-04-11T08:40:03.072055Z",
     "iopub.status.idle": "2023-04-11T08:40:03.094174Z",
     "shell.execute_reply": "2023-04-11T08:40:03.093329Z"
    },
    "papermill": {
     "duration": 0.062636,
     "end_time": "2023-04-11T08:40:03.096325",
     "exception": false,
     "start_time": "2023-04-11T08:40:03.033689",
     "status": "completed"
    },
    "tags": []
   },
   "outputs": [
    {
     "data": {
      "text/html": [
       "<div>\n",
       "<style scoped>\n",
       "    .dataframe tbody tr th:only-of-type {\n",
       "        vertical-align: middle;\n",
       "    }\n",
       "\n",
       "    .dataframe tbody tr th {\n",
       "        vertical-align: top;\n",
       "    }\n",
       "\n",
       "    .dataframe thead th {\n",
       "        text-align: right;\n",
       "    }\n",
       "</style>\n",
       "<table border=\"1\" class=\"dataframe\">\n",
       "  <thead>\n",
       "    <tr style=\"text-align: right;\">\n",
       "      <th></th>\n",
       "      <th>n_obs_used</th>\n",
       "    </tr>\n",
       "  </thead>\n",
       "  <tbody>\n",
       "    <tr>\n",
       "      <th>0</th>\n",
       "      <td>1002</td>\n",
       "    </tr>\n",
       "    <tr>\n",
       "      <th>1</th>\n",
       "      <td>8490</td>\n",
       "    </tr>\n",
       "    <tr>\n",
       "      <th>2</th>\n",
       "      <td>7104</td>\n",
       "    </tr>\n",
       "    <tr>\n",
       "      <th>3</th>\n",
       "      <td>9325</td>\n",
       "    </tr>\n",
       "    <tr>\n",
       "      <th>4</th>\n",
       "      <td>2916</td>\n",
       "    </tr>\n",
       "    <tr>\n",
       "      <th>...</th>\n",
       "      <td>...</td>\n",
       "    </tr>\n",
       "    <tr>\n",
       "      <th>797860</th>\n",
       "      <td>50</td>\n",
       "    </tr>\n",
       "    <tr>\n",
       "      <th>798077</th>\n",
       "      <td>33</td>\n",
       "    </tr>\n",
       "    <tr>\n",
       "      <th>798189</th>\n",
       "      <td>47</td>\n",
       "    </tr>\n",
       "    <tr>\n",
       "      <th>799752</th>\n",
       "      <td>27</td>\n",
       "    </tr>\n",
       "    <tr>\n",
       "      <th>810375</th>\n",
       "      <td>25</td>\n",
       "    </tr>\n",
       "  </tbody>\n",
       "</table>\n",
       "<p>137498 rows × 1 columns</p>\n",
       "</div>"
      ],
      "text/plain": [
       "        n_obs_used\n",
       "0             1002\n",
       "1             8490\n",
       "2             7104\n",
       "3             9325\n",
       "4             2916\n",
       "...            ...\n",
       "797860          50\n",
       "798077          33\n",
       "798189          47\n",
       "799752          27\n",
       "810375          25\n",
       "\n",
       "[137498 rows x 1 columns]"
      ]
     },
     "execution_count": 200,
     "metadata": {},
     "output_type": "execute_result"
    }
   ],
   "source": [
    "df.select_dtypes('int64')"
   ]
  },
  {
   "cell_type": "code",
   "execution_count": 201,
   "id": "afd30cda",
   "metadata": {
    "execution": {
     "iopub.execute_input": "2023-04-11T08:40:03.313510Z",
     "iopub.status.busy": "2023-04-11T08:40:03.313075Z",
     "iopub.status.idle": "2023-04-11T08:40:03.340958Z",
     "shell.execute_reply": "2023-04-11T08:40:03.340179Z"
    },
    "papermill": {
     "duration": 0.067626,
     "end_time": "2023-04-11T08:40:03.343122",
     "exception": false,
     "start_time": "2023-04-11T08:40:03.275496",
     "status": "completed"
    },
    "tags": []
   },
   "outputs": [
    {
     "data": {
      "text/html": [
       "<div>\n",
       "<style scoped>\n",
       "    .dataframe tbody tr th:only-of-type {\n",
       "        vertical-align: middle;\n",
       "    }\n",
       "\n",
       "    .dataframe tbody tr th {\n",
       "        vertical-align: top;\n",
       "    }\n",
       "\n",
       "    .dataframe thead th {\n",
       "        text-align: right;\n",
       "    }\n",
       "</style>\n",
       "<table border=\"1\" class=\"dataframe\">\n",
       "  <thead>\n",
       "    <tr style=\"text-align: right;\">\n",
       "      <th></th>\n",
       "      <th>semi-major_axis(au)</th>\n",
       "      <th>eccentricity</th>\n",
       "      <th>x-y_inclination(deg)</th>\n",
       "      <th>longitude_asc_node</th>\n",
       "      <th>argument_perihelion</th>\n",
       "      <th>perihelion_dist(au)</th>\n",
       "      <th>aphelion_dist(au)</th>\n",
       "      <th>orbital_period</th>\n",
       "      <th>data_arc(d)</th>\n",
       "      <th>earth_min_oribit_inter_dist(au)</th>\n",
       "      <th>mean_motion(deg/d)</th>\n",
       "      <th>orbital_period(d)</th>\n",
       "      <th>mean_anomaly(deg)</th>\n",
       "    </tr>\n",
       "  </thead>\n",
       "  <tbody>\n",
       "    <tr>\n",
       "      <th>0</th>\n",
       "      <td>2.769165</td>\n",
       "      <td>0.076009</td>\n",
       "      <td>10.594067</td>\n",
       "      <td>80.305532</td>\n",
       "      <td>73.597694</td>\n",
       "      <td>2.558684</td>\n",
       "      <td>2.979647</td>\n",
       "      <td>4.608202</td>\n",
       "      <td>8822.0</td>\n",
       "      <td>1.59478</td>\n",
       "      <td>0.213885</td>\n",
       "      <td>1683.145708</td>\n",
       "      <td>77.372096</td>\n",
       "    </tr>\n",
       "    <tr>\n",
       "      <th>1</th>\n",
       "      <td>2.772466</td>\n",
       "      <td>0.230337</td>\n",
       "      <td>34.836234</td>\n",
       "      <td>173.080063</td>\n",
       "      <td>310.048857</td>\n",
       "      <td>2.133865</td>\n",
       "      <td>3.411067</td>\n",
       "      <td>4.616444</td>\n",
       "      <td>72318.0</td>\n",
       "      <td>1.23324</td>\n",
       "      <td>0.213503</td>\n",
       "      <td>1686.155999</td>\n",
       "      <td>59.699133</td>\n",
       "    </tr>\n",
       "    <tr>\n",
       "      <th>2</th>\n",
       "      <td>2.669150</td>\n",
       "      <td>0.256942</td>\n",
       "      <td>12.988919</td>\n",
       "      <td>169.852760</td>\n",
       "      <td>248.138626</td>\n",
       "      <td>1.983332</td>\n",
       "      <td>3.354967</td>\n",
       "      <td>4.360814</td>\n",
       "      <td>72684.0</td>\n",
       "      <td>1.03454</td>\n",
       "      <td>0.226019</td>\n",
       "      <td>1592.787285</td>\n",
       "      <td>34.925016</td>\n",
       "    </tr>\n",
       "    <tr>\n",
       "      <th>3</th>\n",
       "      <td>2.361418</td>\n",
       "      <td>0.088721</td>\n",
       "      <td>7.141771</td>\n",
       "      <td>103.810804</td>\n",
       "      <td>150.728541</td>\n",
       "      <td>2.151909</td>\n",
       "      <td>2.570926</td>\n",
       "      <td>3.628837</td>\n",
       "      <td>24288.0</td>\n",
       "      <td>1.13948</td>\n",
       "      <td>0.271609</td>\n",
       "      <td>1325.432765</td>\n",
       "      <td>95.861936</td>\n",
       "    </tr>\n",
       "    <tr>\n",
       "      <th>4</th>\n",
       "      <td>2.574249</td>\n",
       "      <td>0.191095</td>\n",
       "      <td>5.366988</td>\n",
       "      <td>141.576605</td>\n",
       "      <td>358.687607</td>\n",
       "      <td>2.082324</td>\n",
       "      <td>3.066174</td>\n",
       "      <td>4.130323</td>\n",
       "      <td>63507.0</td>\n",
       "      <td>1.09589</td>\n",
       "      <td>0.238632</td>\n",
       "      <td>1508.600458</td>\n",
       "      <td>282.366289</td>\n",
       "    </tr>\n",
       "    <tr>\n",
       "      <th>...</th>\n",
       "      <td>...</td>\n",
       "      <td>...</td>\n",
       "      <td>...</td>\n",
       "      <td>...</td>\n",
       "      <td>...</td>\n",
       "      <td>...</td>\n",
       "      <td>...</td>\n",
       "      <td>...</td>\n",
       "      <td>...</td>\n",
       "      <td>...</td>\n",
       "      <td>...</td>\n",
       "      <td>...</td>\n",
       "      <td>...</td>\n",
       "    </tr>\n",
       "    <tr>\n",
       "      <th>797860</th>\n",
       "      <td>3.171225</td>\n",
       "      <td>0.159119</td>\n",
       "      <td>27.098625</td>\n",
       "      <td>309.036573</td>\n",
       "      <td>19.746812</td>\n",
       "      <td>2.666623</td>\n",
       "      <td>3.675826</td>\n",
       "      <td>5.647402</td>\n",
       "      <td>2373.0</td>\n",
       "      <td>1.66301</td>\n",
       "      <td>0.174527</td>\n",
       "      <td>2062.713583</td>\n",
       "      <td>164.999439</td>\n",
       "    </tr>\n",
       "    <tr>\n",
       "      <th>798077</th>\n",
       "      <td>2.548410</td>\n",
       "      <td>0.076071</td>\n",
       "      <td>11.593237</td>\n",
       "      <td>246.298656</td>\n",
       "      <td>170.090810</td>\n",
       "      <td>2.354549</td>\n",
       "      <td>2.742270</td>\n",
       "      <td>4.068291</td>\n",
       "      <td>3297.0</td>\n",
       "      <td>1.36733</td>\n",
       "      <td>0.242270</td>\n",
       "      <td>1485.943371</td>\n",
       "      <td>145.319581</td>\n",
       "    </tr>\n",
       "    <tr>\n",
       "      <th>798189</th>\n",
       "      <td>3.146246</td>\n",
       "      <td>0.220559</td>\n",
       "      <td>17.966646</td>\n",
       "      <td>137.981403</td>\n",
       "      <td>180.898833</td>\n",
       "      <td>2.452313</td>\n",
       "      <td>3.840180</td>\n",
       "      <td>5.580811</td>\n",
       "      <td>2839.0</td>\n",
       "      <td>1.43837</td>\n",
       "      <td>0.176610</td>\n",
       "      <td>2038.391053</td>\n",
       "      <td>174.609920</td>\n",
       "    </tr>\n",
       "    <tr>\n",
       "      <th>799752</th>\n",
       "      <td>3.051336</td>\n",
       "      <td>0.287449</td>\n",
       "      <td>14.456779</td>\n",
       "      <td>343.917822</td>\n",
       "      <td>342.614839</td>\n",
       "      <td>2.174231</td>\n",
       "      <td>3.928440</td>\n",
       "      <td>5.330196</td>\n",
       "      <td>2208.0</td>\n",
       "      <td>1.16684</td>\n",
       "      <td>0.184914</td>\n",
       "      <td>1946.853973</td>\n",
       "      <td>175.708508</td>\n",
       "    </tr>\n",
       "    <tr>\n",
       "      <th>810375</th>\n",
       "      <td>2.417477</td>\n",
       "      <td>0.109001</td>\n",
       "      <td>4.525668</td>\n",
       "      <td>148.244819</td>\n",
       "      <td>31.949854</td>\n",
       "      <td>2.153970</td>\n",
       "      <td>2.680984</td>\n",
       "      <td>3.758822</td>\n",
       "      <td>3458.0</td>\n",
       "      <td>1.15942</td>\n",
       "      <td>0.262217</td>\n",
       "      <td>1372.909600</td>\n",
       "      <td>170.888415</td>\n",
       "    </tr>\n",
       "  </tbody>\n",
       "</table>\n",
       "<p>137498 rows × 13 columns</p>\n",
       "</div>"
      ],
      "text/plain": [
       "        semi-major_axis(au)  eccentricity  x-y_inclination(deg)  \\\n",
       "0                  2.769165      0.076009             10.594067   \n",
       "1                  2.772466      0.230337             34.836234   \n",
       "2                  2.669150      0.256942             12.988919   \n",
       "3                  2.361418      0.088721              7.141771   \n",
       "4                  2.574249      0.191095              5.366988   \n",
       "...                     ...           ...                   ...   \n",
       "797860             3.171225      0.159119             27.098625   \n",
       "798077             2.548410      0.076071             11.593237   \n",
       "798189             3.146246      0.220559             17.966646   \n",
       "799752             3.051336      0.287449             14.456779   \n",
       "810375             2.417477      0.109001              4.525668   \n",
       "\n",
       "        longitude_asc_node  argument_perihelion  perihelion_dist(au)  \\\n",
       "0                80.305532            73.597694             2.558684   \n",
       "1               173.080063           310.048857             2.133865   \n",
       "2               169.852760           248.138626             1.983332   \n",
       "3               103.810804           150.728541             2.151909   \n",
       "4               141.576605           358.687607             2.082324   \n",
       "...                    ...                  ...                  ...   \n",
       "797860          309.036573            19.746812             2.666623   \n",
       "798077          246.298656           170.090810             2.354549   \n",
       "798189          137.981403           180.898833             2.452313   \n",
       "799752          343.917822           342.614839             2.174231   \n",
       "810375          148.244819            31.949854             2.153970   \n",
       "\n",
       "        aphelion_dist(au)  orbital_period  data_arc(d)  \\\n",
       "0                2.979647        4.608202       8822.0   \n",
       "1                3.411067        4.616444      72318.0   \n",
       "2                3.354967        4.360814      72684.0   \n",
       "3                2.570926        3.628837      24288.0   \n",
       "4                3.066174        4.130323      63507.0   \n",
       "...                   ...             ...          ...   \n",
       "797860           3.675826        5.647402       2373.0   \n",
       "798077           2.742270        4.068291       3297.0   \n",
       "798189           3.840180        5.580811       2839.0   \n",
       "799752           3.928440        5.330196       2208.0   \n",
       "810375           2.680984        3.758822       3458.0   \n",
       "\n",
       "        earth_min_oribit_inter_dist(au)  mean_motion(deg/d)  \\\n",
       "0                               1.59478            0.213885   \n",
       "1                               1.23324            0.213503   \n",
       "2                               1.03454            0.226019   \n",
       "3                               1.13948            0.271609   \n",
       "4                               1.09589            0.238632   \n",
       "...                                 ...                 ...   \n",
       "797860                          1.66301            0.174527   \n",
       "798077                          1.36733            0.242270   \n",
       "798189                          1.43837            0.176610   \n",
       "799752                          1.16684            0.184914   \n",
       "810375                          1.15942            0.262217   \n",
       "\n",
       "        orbital_period(d)  mean_anomaly(deg)  \n",
       "0             1683.145708          77.372096  \n",
       "1             1686.155999          59.699133  \n",
       "2             1592.787285          34.925016  \n",
       "3             1325.432765          95.861936  \n",
       "4             1508.600458         282.366289  \n",
       "...                   ...                ...  \n",
       "797860        2062.713583         164.999439  \n",
       "798077        1485.943371         145.319581  \n",
       "798189        2038.391053         174.609920  \n",
       "799752        1946.853973         175.708508  \n",
       "810375        1372.909600         170.888415  \n",
       "\n",
       "[137498 rows x 13 columns]"
      ]
     },
     "execution_count": 201,
     "metadata": {},
     "output_type": "execute_result"
    }
   ],
   "source": [
    "df.select_dtypes('float64')"
   ]
  },
  {
   "cell_type": "code",
   "execution_count": 202,
   "id": "0c6f1ac3",
   "metadata": {
    "execution": {
     "iopub.execute_input": "2023-04-11T08:40:03.490576Z",
     "iopub.status.busy": "2023-04-11T08:40:03.490104Z",
     "iopub.status.idle": "2023-04-11T08:40:03.634285Z",
     "shell.execute_reply": "2023-04-11T08:40:03.633133Z"
    },
    "papermill": {
     "duration": 0.184677,
     "end_time": "2023-04-11T08:40:03.636882",
     "exception": false,
     "start_time": "2023-04-11T08:40:03.452205",
     "status": "completed"
    },
    "tags": []
   },
   "outputs": [
    {
     "data": {
      "text/html": [
       "<div>\n",
       "<style scoped>\n",
       "    .dataframe tbody tr th:only-of-type {\n",
       "        vertical-align: middle;\n",
       "    }\n",
       "\n",
       "    .dataframe tbody tr th {\n",
       "        vertical-align: top;\n",
       "    }\n",
       "\n",
       "    .dataframe thead th {\n",
       "        text-align: right;\n",
       "    }\n",
       "</style>\n",
       "<table border=\"1\" class=\"dataframe\">\n",
       "  <thead>\n",
       "    <tr style=\"text-align: right;\">\n",
       "      <th></th>\n",
       "      <th>count</th>\n",
       "      <th>mean</th>\n",
       "      <th>std</th>\n",
       "      <th>min</th>\n",
       "      <th>25%</th>\n",
       "      <th>50%</th>\n",
       "      <th>75%</th>\n",
       "      <th>max</th>\n",
       "    </tr>\n",
       "  </thead>\n",
       "  <tbody>\n",
       "    <tr>\n",
       "      <th>semi-major_axis(au)</th>\n",
       "      <td>137498.0</td>\n",
       "      <td>2.814860</td>\n",
       "      <td>1.523440</td>\n",
       "      <td>0.626226</td>\n",
       "      <td>2.537203</td>\n",
       "      <td>2.751137</td>\n",
       "      <td>3.092618</td>\n",
       "      <td>3.891460e+02</td>\n",
       "    </tr>\n",
       "    <tr>\n",
       "      <th>eccentricity</th>\n",
       "      <td>137498.0</td>\n",
       "      <td>0.145493</td>\n",
       "      <td>0.077562</td>\n",
       "      <td>0.000489</td>\n",
       "      <td>0.089639</td>\n",
       "      <td>0.138552</td>\n",
       "      <td>0.191136</td>\n",
       "      <td>9.843482e-01</td>\n",
       "    </tr>\n",
       "    <tr>\n",
       "      <th>x-y_inclination(deg)</th>\n",
       "      <td>137498.0</td>\n",
       "      <td>10.344665</td>\n",
       "      <td>6.833685</td>\n",
       "      <td>0.021855</td>\n",
       "      <td>5.117951</td>\n",
       "      <td>9.384643</td>\n",
       "      <td>13.731117</td>\n",
       "      <td>1.703236e+02</td>\n",
       "    </tr>\n",
       "    <tr>\n",
       "      <th>longitude_asc_node</th>\n",
       "      <td>137498.0</td>\n",
       "      <td>169.822289</td>\n",
       "      <td>102.706780</td>\n",
       "      <td>0.000738</td>\n",
       "      <td>82.343922</td>\n",
       "      <td>160.429291</td>\n",
       "      <td>256.215175</td>\n",
       "      <td>3.599909e+02</td>\n",
       "    </tr>\n",
       "    <tr>\n",
       "      <th>argument_perihelion</th>\n",
       "      <td>137498.0</td>\n",
       "      <td>181.913131</td>\n",
       "      <td>103.556953</td>\n",
       "      <td>0.004466</td>\n",
       "      <td>91.950047</td>\n",
       "      <td>183.678210</td>\n",
       "      <td>271.783394</td>\n",
       "      <td>3.599952e+02</td>\n",
       "    </tr>\n",
       "    <tr>\n",
       "      <th>perihelion_dist(au)</th>\n",
       "      <td>137498.0</td>\n",
       "      <td>2.402796</td>\n",
       "      <td>0.516244</td>\n",
       "      <td>0.081882</td>\n",
       "      <td>2.069182</td>\n",
       "      <td>2.364151</td>\n",
       "      <td>2.685880</td>\n",
       "      <td>4.046567e+01</td>\n",
       "    </tr>\n",
       "    <tr>\n",
       "      <th>aphelion_dist(au)</th>\n",
       "      <td>137498.0</td>\n",
       "      <td>3.226925</td>\n",
       "      <td>2.897771</td>\n",
       "      <td>0.999956</td>\n",
       "      <td>2.864859</td>\n",
       "      <td>3.167794</td>\n",
       "      <td>3.468830</td>\n",
       "      <td>7.722011e+02</td>\n",
       "    </tr>\n",
       "    <tr>\n",
       "      <th>orbital_period</th>\n",
       "      <td>137498.0</td>\n",
       "      <td>4.884987</td>\n",
       "      <td>25.545348</td>\n",
       "      <td>0.495569</td>\n",
       "      <td>4.041486</td>\n",
       "      <td>4.563273</td>\n",
       "      <td>5.438730</td>\n",
       "      <td>7.676743e+03</td>\n",
       "    </tr>\n",
       "    <tr>\n",
       "      <th>data_arc(d)</th>\n",
       "      <td>137498.0</td>\n",
       "      <td>8969.818601</td>\n",
       "      <td>6165.176190</td>\n",
       "      <td>1.000000</td>\n",
       "      <td>6291.000000</td>\n",
       "      <td>7572.000000</td>\n",
       "      <td>9731.000000</td>\n",
       "      <td>7.268400e+04</td>\n",
       "    </tr>\n",
       "    <tr>\n",
       "      <th>condition_code</th>\n",
       "      <td>137498.0</td>\n",
       "      <td>0.476661</td>\n",
       "      <td>1.948461</td>\n",
       "      <td>0.000000</td>\n",
       "      <td>0.000000</td>\n",
       "      <td>0.000000</td>\n",
       "      <td>0.000000</td>\n",
       "      <td>9.000000e+00</td>\n",
       "    </tr>\n",
       "    <tr>\n",
       "      <th>n_obs_used</th>\n",
       "      <td>137498.0</td>\n",
       "      <td>675.697741</td>\n",
       "      <td>595.858509</td>\n",
       "      <td>5.000000</td>\n",
       "      <td>215.000000</td>\n",
       "      <td>497.000000</td>\n",
       "      <td>985.000000</td>\n",
       "      <td>9.325000e+03</td>\n",
       "    </tr>\n",
       "    <tr>\n",
       "      <th>earth_min_oribit_inter_dist(au)</th>\n",
       "      <td>137498.0</td>\n",
       "      <td>1.420325</td>\n",
       "      <td>0.512319</td>\n",
       "      <td>0.000166</td>\n",
       "      <td>1.082732</td>\n",
       "      <td>1.385190</td>\n",
       "      <td>1.699560</td>\n",
       "      <td>3.950700e+01</td>\n",
       "    </tr>\n",
       "    <tr>\n",
       "      <th>mean_motion(deg/d)</th>\n",
       "      <td>137498.0</td>\n",
       "      <td>0.219611</td>\n",
       "      <td>0.056977</td>\n",
       "      <td>0.000128</td>\n",
       "      <td>0.181224</td>\n",
       "      <td>0.215991</td>\n",
       "      <td>0.243877</td>\n",
       "      <td>1.988877e+00</td>\n",
       "    </tr>\n",
       "    <tr>\n",
       "      <th>orbital_period(d)</th>\n",
       "      <td>137498.0</td>\n",
       "      <td>1784.241661</td>\n",
       "      <td>9330.438394</td>\n",
       "      <td>181.006674</td>\n",
       "      <td>1476.152702</td>\n",
       "      <td>1666.735583</td>\n",
       "      <td>1986.496228</td>\n",
       "      <td>2.803930e+06</td>\n",
       "    </tr>\n",
       "    <tr>\n",
       "      <th>mean_anomaly(deg)</th>\n",
       "      <td>137498.0</td>\n",
       "      <td>183.138668</td>\n",
       "      <td>103.420038</td>\n",
       "      <td>0.000517</td>\n",
       "      <td>94.304480</td>\n",
       "      <td>186.847852</td>\n",
       "      <td>271.505489</td>\n",
       "      <td>3.600000e+02</td>\n",
       "    </tr>\n",
       "  </tbody>\n",
       "</table>\n",
       "</div>"
      ],
      "text/plain": [
       "                                    count         mean          std  \\\n",
       "semi-major_axis(au)              137498.0     2.814860     1.523440   \n",
       "eccentricity                     137498.0     0.145493     0.077562   \n",
       "x-y_inclination(deg)             137498.0    10.344665     6.833685   \n",
       "longitude_asc_node               137498.0   169.822289   102.706780   \n",
       "argument_perihelion              137498.0   181.913131   103.556953   \n",
       "perihelion_dist(au)              137498.0     2.402796     0.516244   \n",
       "aphelion_dist(au)                137498.0     3.226925     2.897771   \n",
       "orbital_period                   137498.0     4.884987    25.545348   \n",
       "data_arc(d)                      137498.0  8969.818601  6165.176190   \n",
       "condition_code                   137498.0     0.476661     1.948461   \n",
       "n_obs_used                       137498.0   675.697741   595.858509   \n",
       "earth_min_oribit_inter_dist(au)  137498.0     1.420325     0.512319   \n",
       "mean_motion(deg/d)               137498.0     0.219611     0.056977   \n",
       "orbital_period(d)                137498.0  1784.241661  9330.438394   \n",
       "mean_anomaly(deg)                137498.0   183.138668   103.420038   \n",
       "\n",
       "                                        min          25%          50%  \\\n",
       "semi-major_axis(au)                0.626226     2.537203     2.751137   \n",
       "eccentricity                       0.000489     0.089639     0.138552   \n",
       "x-y_inclination(deg)               0.021855     5.117951     9.384643   \n",
       "longitude_asc_node                 0.000738    82.343922   160.429291   \n",
       "argument_perihelion                0.004466    91.950047   183.678210   \n",
       "perihelion_dist(au)                0.081882     2.069182     2.364151   \n",
       "aphelion_dist(au)                  0.999956     2.864859     3.167794   \n",
       "orbital_period                     0.495569     4.041486     4.563273   \n",
       "data_arc(d)                        1.000000  6291.000000  7572.000000   \n",
       "condition_code                     0.000000     0.000000     0.000000   \n",
       "n_obs_used                         5.000000   215.000000   497.000000   \n",
       "earth_min_oribit_inter_dist(au)    0.000166     1.082732     1.385190   \n",
       "mean_motion(deg/d)                 0.000128     0.181224     0.215991   \n",
       "orbital_period(d)                181.006674  1476.152702  1666.735583   \n",
       "mean_anomaly(deg)                  0.000517    94.304480   186.847852   \n",
       "\n",
       "                                         75%           max  \n",
       "semi-major_axis(au)                 3.092618  3.891460e+02  \n",
       "eccentricity                        0.191136  9.843482e-01  \n",
       "x-y_inclination(deg)               13.731117  1.703236e+02  \n",
       "longitude_asc_node                256.215175  3.599909e+02  \n",
       "argument_perihelion               271.783394  3.599952e+02  \n",
       "perihelion_dist(au)                 2.685880  4.046567e+01  \n",
       "aphelion_dist(au)                   3.468830  7.722011e+02  \n",
       "orbital_period                      5.438730  7.676743e+03  \n",
       "data_arc(d)                      9731.000000  7.268400e+04  \n",
       "condition_code                      0.000000  9.000000e+00  \n",
       "n_obs_used                        985.000000  9.325000e+03  \n",
       "earth_min_oribit_inter_dist(au)     1.699560  3.950700e+01  \n",
       "mean_motion(deg/d)                  0.243877  1.988877e+00  \n",
       "orbital_period(d)                1986.496228  2.803930e+06  \n",
       "mean_anomaly(deg)                 271.505489  3.600000e+02  "
      ]
     },
     "execution_count": 202,
     "metadata": {},
     "output_type": "execute_result"
    }
   ],
   "source": [
    "df.describe().T"
   ]
  },
  {
   "cell_type": "code",
   "execution_count": 203,
   "id": "990fbf83",
   "metadata": {
    "execution": {
     "iopub.execute_input": "2023-04-11T08:40:03.786241Z",
     "iopub.status.busy": "2023-04-11T08:40:03.785811Z",
     "iopub.status.idle": "2023-04-11T08:40:06.178299Z",
     "shell.execute_reply": "2023-04-11T08:40:06.177035Z"
    },
    "papermill": {
     "duration": 2.434044,
     "end_time": "2023-04-11T08:40:06.181566",
     "exception": false,
     "start_time": "2023-04-11T08:40:03.747522",
     "status": "completed"
    },
    "tags": []
   },
   "outputs": [
    {
     "data": {
      "image/png": "[encoded data removed]",
      "text/plain": [
       "<Figure size 2000x2000 with 16 Axes>"
      ]
     },
     "metadata": {},
     "output_type": "display_data"
    }
   ],
   "source": [
    "df.hist(figsize=(20,20))\n",
    "plt.show()"
   ]
  },
  {
   "cell_type": "code",
   "execution_count": 204,
   "id": "3140f2eb",
   "metadata": {
    "execution": {
     "iopub.execute_input": "2023-04-11T08:40:06.344100Z",
     "iopub.status.busy": "2023-04-11T08:40:06.343688Z",
     "iopub.status.idle": "2023-04-11T08:40:06.610893Z",
     "shell.execute_reply": "2023-04-11T08:40:06.609703Z"
    },
    "papermill": {
     "duration": 0.31043,
     "end_time": "2023-04-11T08:40:06.613420",
     "exception": false,
     "start_time": "2023-04-11T08:40:06.302990",
     "status": "completed"
    },
    "tags": []
   },
   "outputs": [
    {
     "data": {
      "text/plain": [
       "<Axes: >"
      ]
     },
     "execution_count": 204,
     "metadata": {},
     "output_type": "execute_result"
    },
    {
     "data": {
      "image/png": "[encoded data removed]",
      "text/plain": [
       "<Figure size 640x480 with 1 Axes>"
      ]
     },
     "metadata": {},
     "output_type": "display_data"
    }
   ],
   "source": [
    "sns.boxplot(df['data_arc(d)'])"
   ]
  },
  {
   "cell_type": "code",
   "execution_count": 205,
   "id": "47a42966",
   "metadata": {
    "execution": {
     "iopub.execute_input": "2023-04-11T08:40:06.770877Z",
     "iopub.status.busy": "2023-04-11T08:40:06.769885Z",
     "iopub.status.idle": "2023-04-11T08:40:06.779536Z",
     "shell.execute_reply": "2023-04-11T08:40:06.778602Z"
    },
    "papermill": {
     "duration": 0.052391,
     "end_time": "2023-04-11T08:40:06.782013",
     "exception": false,
     "start_time": "2023-04-11T08:40:06.729622",
     "status": "completed"
    },
    "tags": []
   },
   "outputs": [],
   "source": [
    "df['data_arc(d)']=df['data_arc(d)'].fillna(df['data_arc(d)'].median())"
   ]
  },
  {
   "cell_type": "code",
   "execution_count": 206,
   "id": "cc2508f9",
   "metadata": {
    "execution": {
     "iopub.execute_input": "2023-04-11T08:40:06.864222Z",
     "iopub.status.busy": "2023-04-11T08:40:06.863548Z",
     "iopub.status.idle": "2023-04-11T08:40:07.004136Z",
     "shell.execute_reply": "2023-04-11T08:40:07.002985Z"
    },
    "papermill": {
     "duration": 0.184738,
     "end_time": "2023-04-11T08:40:07.006594",
     "exception": false,
     "start_time": "2023-04-11T08:40:06.821856",
     "status": "completed"
    },
    "tags": []
   },
   "outputs": [
    {
     "data": {
      "text/html": [
       "<div>\n",
       "<style scoped>\n",
       "    .dataframe tbody tr th:only-of-type {\n",
       "        vertical-align: middle;\n",
       "    }\n",
       "\n",
       "    .dataframe tbody tr th {\n",
       "        vertical-align: top;\n",
       "    }\n",
       "\n",
       "    .dataframe thead th {\n",
       "        text-align: right;\n",
       "    }\n",
       "</style>\n",
       "<table border=\"1\" class=\"dataframe\">\n",
       "  <thead>\n",
       "    <tr style=\"text-align: right;\">\n",
       "      <th></th>\n",
       "      <th>count</th>\n",
       "      <th>mean</th>\n",
       "      <th>std</th>\n",
       "      <th>min</th>\n",
       "      <th>25%</th>\n",
       "      <th>50%</th>\n",
       "      <th>75%</th>\n",
       "      <th>max</th>\n",
       "    </tr>\n",
       "  </thead>\n",
       "  <tbody>\n",
       "    <tr>\n",
       "      <th>semi-major_axis(au)</th>\n",
       "      <td>137498.0</td>\n",
       "      <td>2.814860</td>\n",
       "      <td>1.523440</td>\n",
       "      <td>0.626226</td>\n",
       "      <td>2.537203</td>\n",
       "      <td>2.751137</td>\n",
       "      <td>3.092618</td>\n",
       "      <td>3.891460e+02</td>\n",
       "    </tr>\n",
       "    <tr>\n",
       "      <th>eccentricity</th>\n",
       "      <td>137498.0</td>\n",
       "      <td>0.145493</td>\n",
       "      <td>0.077562</td>\n",
       "      <td>0.000489</td>\n",
       "      <td>0.089639</td>\n",
       "      <td>0.138552</td>\n",
       "      <td>0.191136</td>\n",
       "      <td>9.843482e-01</td>\n",
       "    </tr>\n",
       "    <tr>\n",
       "      <th>x-y_inclination(deg)</th>\n",
       "      <td>137498.0</td>\n",
       "      <td>10.344665</td>\n",
       "      <td>6.833685</td>\n",
       "      <td>0.021855</td>\n",
       "      <td>5.117951</td>\n",
       "      <td>9.384643</td>\n",
       "      <td>13.731117</td>\n",
       "      <td>1.703236e+02</td>\n",
       "    </tr>\n",
       "    <tr>\n",
       "      <th>longitude_asc_node</th>\n",
       "      <td>137498.0</td>\n",
       "      <td>169.822289</td>\n",
       "      <td>102.706780</td>\n",
       "      <td>0.000738</td>\n",
       "      <td>82.343922</td>\n",
       "      <td>160.429291</td>\n",
       "      <td>256.215175</td>\n",
       "      <td>3.599909e+02</td>\n",
       "    </tr>\n",
       "    <tr>\n",
       "      <th>argument_perihelion</th>\n",
       "      <td>137498.0</td>\n",
       "      <td>181.913131</td>\n",
       "      <td>103.556953</td>\n",
       "      <td>0.004466</td>\n",
       "      <td>91.950047</td>\n",
       "      <td>183.678210</td>\n",
       "      <td>271.783394</td>\n",
       "      <td>3.599952e+02</td>\n",
       "    </tr>\n",
       "    <tr>\n",
       "      <th>perihelion_dist(au)</th>\n",
       "      <td>137498.0</td>\n",
       "      <td>2.402796</td>\n",
       "      <td>0.516244</td>\n",
       "      <td>0.081882</td>\n",
       "      <td>2.069182</td>\n",
       "      <td>2.364151</td>\n",
       "      <td>2.685880</td>\n",
       "      <td>4.046567e+01</td>\n",
       "    </tr>\n",
       "    <tr>\n",
       "      <th>aphelion_dist(au)</th>\n",
       "      <td>137498.0</td>\n",
       "      <td>3.226925</td>\n",
       "      <td>2.897771</td>\n",
       "      <td>0.999956</td>\n",
       "      <td>2.864859</td>\n",
       "      <td>3.167794</td>\n",
       "      <td>3.468830</td>\n",
       "      <td>7.722011e+02</td>\n",
       "    </tr>\n",
       "    <tr>\n",
       "      <th>orbital_period</th>\n",
       "      <td>137498.0</td>\n",
       "      <td>4.884987</td>\n",
       "      <td>25.545348</td>\n",
       "      <td>0.495569</td>\n",
       "      <td>4.041486</td>\n",
       "      <td>4.563273</td>\n",
       "      <td>5.438730</td>\n",
       "      <td>7.676743e+03</td>\n",
       "    </tr>\n",
       "    <tr>\n",
       "      <th>data_arc(d)</th>\n",
       "      <td>137498.0</td>\n",
       "      <td>8969.818601</td>\n",
       "      <td>6165.176190</td>\n",
       "      <td>1.000000</td>\n",
       "      <td>6291.000000</td>\n",
       "      <td>7572.000000</td>\n",
       "      <td>9731.000000</td>\n",
       "      <td>7.268400e+04</td>\n",
       "    </tr>\n",
       "    <tr>\n",
       "      <th>condition_code</th>\n",
       "      <td>137498.0</td>\n",
       "      <td>0.476661</td>\n",
       "      <td>1.948461</td>\n",
       "      <td>0.000000</td>\n",
       "      <td>0.000000</td>\n",
       "      <td>0.000000</td>\n",
       "      <td>0.000000</td>\n",
       "      <td>9.000000e+00</td>\n",
       "    </tr>\n",
       "    <tr>\n",
       "      <th>n_obs_used</th>\n",
       "      <td>137498.0</td>\n",
       "      <td>675.697741</td>\n",
       "      <td>595.858509</td>\n",
       "      <td>5.000000</td>\n",
       "      <td>215.000000</td>\n",
       "      <td>497.000000</td>\n",
       "      <td>985.000000</td>\n",
       "      <td>9.325000e+03</td>\n",
       "    </tr>\n",
       "    <tr>\n",
       "      <th>earth_min_oribit_inter_dist(au)</th>\n",
       "      <td>137498.0</td>\n",
       "      <td>1.420325</td>\n",
       "      <td>0.512319</td>\n",
       "      <td>0.000166</td>\n",
       "      <td>1.082732</td>\n",
       "      <td>1.385190</td>\n",
       "      <td>1.699560</td>\n",
       "      <td>3.950700e+01</td>\n",
       "    </tr>\n",
       "    <tr>\n",
       "      <th>mean_motion(deg/d)</th>\n",
       "      <td>137498.0</td>\n",
       "      <td>0.219611</td>\n",
       "      <td>0.056977</td>\n",
       "      <td>0.000128</td>\n",
       "      <td>0.181224</td>\n",
       "      <td>0.215991</td>\n",
       "      <td>0.243877</td>\n",
       "      <td>1.988877e+00</td>\n",
       "    </tr>\n",
       "    <tr>\n",
       "      <th>orbital_period(d)</th>\n",
       "      <td>137498.0</td>\n",
       "      <td>1784.241661</td>\n",
       "      <td>9330.438394</td>\n",
       "      <td>181.006674</td>\n",
       "      <td>1476.152702</td>\n",
       "      <td>1666.735583</td>\n",
       "      <td>1986.496228</td>\n",
       "      <td>2.803930e+06</td>\n",
       "    </tr>\n",
       "    <tr>\n",
       "      <th>mean_anomaly(deg)</th>\n",
       "      <td>137498.0</td>\n",
       "      <td>183.138668</td>\n",
       "      <td>103.420038</td>\n",
       "      <td>0.000517</td>\n",
       "      <td>94.304480</td>\n",
       "      <td>186.847852</td>\n",
       "      <td>271.505489</td>\n",
       "      <td>3.600000e+02</td>\n",
       "    </tr>\n",
       "  </tbody>\n",
       "</table>\n",
       "</div>"
      ],
      "text/plain": [
       "                                    count         mean          std  \\\n",
       "semi-major_axis(au)              137498.0     2.814860     1.523440   \n",
       "eccentricity                     137498.0     0.145493     0.077562   \n",
       "x-y_inclination(deg)             137498.0    10.344665     6.833685   \n",
       "longitude_asc_node               137498.0   169.822289   102.706780   \n",
       "argument_perihelion              137498.0   181.913131   103.556953   \n",
       "perihelion_dist(au)              137498.0     2.402796     0.516244   \n",
       "aphelion_dist(au)                137498.0     3.226925     2.897771   \n",
       "orbital_period                   137498.0     4.884987    25.545348   \n",
       "data_arc(d)                      137498.0  8969.818601  6165.176190   \n",
       "condition_code                   137498.0     0.476661     1.948461   \n",
       "n_obs_used                       137498.0   675.697741   595.858509   \n",
       "earth_min_oribit_inter_dist(au)  137498.0     1.420325     0.512319   \n",
       "mean_motion(deg/d)               137498.0     0.219611     0.056977   \n",
       "orbital_period(d)                137498.0  1784.241661  9330.438394   \n",
       "mean_anomaly(deg)                137498.0   183.138668   103.420038   \n",
       "\n",
       "                                        min          25%          50%  \\\n",
       "semi-major_axis(au)                0.626226     2.537203     2.751137   \n",
       "eccentricity                       0.000489     0.089639     0.138552   \n",
       "x-y_inclination(deg)               0.021855     5.117951     9.384643   \n",
       "longitude_asc_node                 0.000738    82.343922   160.429291   \n",
       "argument_perihelion                0.004466    91.950047   183.678210   \n",
       "perihelion_dist(au)                0.081882     2.069182     2.364151   \n",
       "aphelion_dist(au)                  0.999956     2.864859     3.167794   \n",
       "orbital_period                     0.495569     4.041486     4.563273   \n",
       "data_arc(d)                        1.000000  6291.000000  7572.000000   \n",
       "condition_code                     0.000000     0.000000     0.000000   \n",
       "n_obs_used                         5.000000   215.000000   497.000000   \n",
       "earth_min_oribit_inter_dist(au)    0.000166     1.082732     1.385190   \n",
       "mean_motion(deg/d)                 0.000128     0.181224     0.215991   \n",
       "orbital_period(d)                181.006674  1476.152702  1666.735583   \n",
       "mean_anomaly(deg)                  0.000517    94.304480   186.847852   \n",
       "\n",
       "                                         75%           max  \n",
       "semi-major_axis(au)                 3.092618  3.891460e+02  \n",
       "eccentricity                        0.191136  9.843482e-01  \n",
       "x-y_inclination(deg)               13.731117  1.703236e+02  \n",
       "longitude_asc_node                256.215175  3.599909e+02  \n",
       "argument_perihelion               271.783394  3.599952e+02  \n",
       "perihelion_dist(au)                 2.685880  4.046567e+01  \n",
       "aphelion_dist(au)                   3.468830  7.722011e+02  \n",
       "orbital_period                      5.438730  7.676743e+03  \n",
       "data_arc(d)                      9731.000000  7.268400e+04  \n",
       "condition_code                      0.000000  9.000000e+00  \n",
       "n_obs_used                        985.000000  9.325000e+03  \n",
       "earth_min_oribit_inter_dist(au)     1.699560  3.950700e+01  \n",
       "mean_motion(deg/d)                  0.243877  1.988877e+00  \n",
       "orbital_period(d)                1986.496228  2.803930e+06  \n",
       "mean_anomaly(deg)                 271.505489  3.600000e+02  "
      ]
     },
     "execution_count": 206,
     "metadata": {},
     "output_type": "execute_result"
    }
   ],
   "source": [
    "df.describe().T"
   ]
  },
  {
   "cell_type": "code",
   "execution_count": 207,
   "id": "0af8de42",
   "metadata": {
    "execution": {
     "iopub.execute_input": "2023-04-11T08:40:07.087274Z",
     "iopub.status.busy": "2023-04-11T08:40:07.086817Z",
     "iopub.status.idle": "2023-04-11T08:40:07.126414Z",
     "shell.execute_reply": "2023-04-11T08:40:07.124722Z"
    },
    "papermill": {
     "duration": 0.082687,
     "end_time": "2023-04-11T08:40:07.128860",
     "exception": false,
     "start_time": "2023-04-11T08:40:07.046173",
     "status": "completed"
    },
    "tags": []
   },
   "outputs": [
    {
     "name": "stdout",
     "output_type": "stream",
     "text": [
      "<class 'pandas.core.frame.DataFrame'>\n",
      "Int64Index: 137498 entries, 0 to 810375\n",
      "Data columns (total 19 columns):\n",
      " #   Column                           Non-Null Count   Dtype  \n",
      "---  ------                           --------------   -----  \n",
      " 0   semi-major_axis(au)              137498 non-null  float64\n",
      " 1   eccentricity                     137498 non-null  float64\n",
      " 2   x-y_inclination(deg)             137498 non-null  float64\n",
      " 3   longitude_asc_node               137498 non-null  float64\n",
      " 4   argument_perihelion              137498 non-null  float64\n",
      " 5   perihelion_dist(au)              137498 non-null  float64\n",
      " 6   aphelion_dist(au)                137498 non-null  float64\n",
      " 7   orbital_period                   137498 non-null  float64\n",
      " 8   data_arc(d)                      137498 non-null  float64\n",
      " 9   condition_code                   137498 non-null  int32  \n",
      " 10  n_obs_used                       137498 non-null  int64  \n",
      " 11  near_earth_obj                   137498 non-null  object \n",
      " 12  physically_hazardous_asteroid    137498 non-null  object \n",
      " 13  diameter                         137498 non-null  object \n",
      " 14  earth_min_oribit_inter_dist(au)  137498 non-null  float64\n",
      " 15  class                            137498 non-null  object \n",
      " 16  mean_motion(deg/d)               137498 non-null  float64\n",
      " 17  orbital_period(d)                137498 non-null  float64\n",
      " 18  mean_anomaly(deg)                137498 non-null  float64\n",
      "dtypes: float64(13), int32(1), int64(1), object(4)\n",
      "memory usage: 24.5+ MB\n"
     ]
    }
   ],
   "source": [
    "df.info()"
   ]
  },
  {
   "cell_type": "code",
   "execution_count": 208,
   "id": "c5545a6c",
   "metadata": {
    "execution": {
     "iopub.execute_input": "2023-04-11T08:40:07.367783Z",
     "iopub.status.busy": "2023-04-11T08:40:07.367394Z",
     "iopub.status.idle": "2023-04-11T08:40:07.375416Z",
     "shell.execute_reply": "2023-04-11T08:40:07.374248Z"
    },
    "papermill": {
     "duration": 0.051615,
     "end_time": "2023-04-11T08:40:07.377610",
     "exception": false,
     "start_time": "2023-04-11T08:40:07.325995",
     "status": "completed"
    },
    "tags": []
   },
   "outputs": [
    {
     "data": {
      "text/plain": [
       "['near_earth_obj', 'physically_hazardous_asteroid', 'diameter', 'class']"
      ]
     },
     "execution_count": 208,
     "metadata": {},
     "output_type": "execute_result"
    }
   ],
   "source": [
    "data_type = df.dtypes\n",
    "data_type[(data_type == 'object')].index.tolist()"
   ]
  },
  {
   "cell_type": "code",
   "execution_count": 209,
   "id": "0eeefec3",
   "metadata": {
    "execution": {
     "iopub.execute_input": "2023-04-11T08:40:07.614867Z",
     "iopub.status.busy": "2023-04-11T08:40:07.614492Z",
     "iopub.status.idle": "2023-04-11T08:40:07.626032Z",
     "shell.execute_reply": "2023-04-11T08:40:07.624909Z"
    },
    "papermill": {
     "duration": 0.055277,
     "end_time": "2023-04-11T08:40:07.628737",
     "exception": false,
     "start_time": "2023-04-11T08:40:07.573460",
     "status": "completed"
    },
    "tags": []
   },
   "outputs": [],
   "source": [
    "drop_list=['near_earth_obj', 'physically_hazardous_asteroid']\n",
    "df.drop(drop_list,axis=1,inplace=True)"
   ]
  },
  {
   "cell_type": "code",
   "execution_count": 210,
   "id": "059e6275",
   "metadata": {
    "execution": {
     "iopub.execute_input": "2023-04-11T08:40:07.790528Z",
     "iopub.status.busy": "2023-04-11T08:40:07.790119Z",
     "iopub.status.idle": "2023-04-11T08:40:07.795843Z",
     "shell.execute_reply": "2023-04-11T08:40:07.794624Z"
    },
    "papermill": {
     "duration": 0.048889,
     "end_time": "2023-04-11T08:40:07.798022",
     "exception": false,
     "start_time": "2023-04-11T08:40:07.749133",
     "status": "completed"
    },
    "tags": []
   },
   "outputs": [],
   "source": [
    "#Set Plot Colors\n",
    "sns.set_palette('inferno', 11)"
   ]
  },
  {
   "cell_type": "code",
   "execution_count": 211,
   "id": "babe4613",
   "metadata": {
    "execution": {
     "iopub.execute_input": "2023-04-11T08:40:07.880424Z",
     "iopub.status.busy": "2023-04-11T08:40:07.880034Z",
     "iopub.status.idle": "2023-04-11T08:40:08.879782Z",
     "shell.execute_reply": "2023-04-11T08:40:08.878489Z"
    },
    "papermill": {
     "duration": 1.044415,
     "end_time": "2023-04-11T08:40:08.882553",
     "exception": false,
     "start_time": "2023-04-11T08:40:07.838138",
     "status": "completed"
    },
    "tags": []
   },
   "outputs": [
    {
     "data": {
      "image/png": "[encoded data removed]",
      "text/plain": [
       "<Figure size 640x480 with 1 Axes>"
      ]
     },
     "metadata": {},
     "output_type": "display_data"
    }
   ],
   "source": [
    "sns.boxplot(x='class', y='longitude_asc_node', data=df)\n",
    "plt.yscale('log');"
   ]
  },
  {
   "cell_type": "code",
   "execution_count": 212,
   "id": "387695ae",
   "metadata": {
    "execution": {
     "iopub.execute_input": "2023-04-11T08:40:09.121748Z",
     "iopub.status.busy": "2023-04-11T08:40:09.121331Z",
     "iopub.status.idle": "2023-04-11T08:40:09.139139Z",
     "shell.execute_reply": "2023-04-11T08:40:09.137878Z"
    },
    "papermill": {
     "duration": 0.061731,
     "end_time": "2023-04-11T08:40:09.141536",
     "exception": false,
     "start_time": "2023-04-11T08:40:09.079805",
     "status": "completed"
    },
    "tags": []
   },
   "outputs": [
    {
     "data": {
      "text/plain": [
       "count    137498.000000\n",
       "mean        169.822289\n",
       "std         102.706780\n",
       "min           0.000738\n",
       "25%          82.343922\n",
       "50%         160.429291\n",
       "75%         256.215175\n",
       "max         359.990858\n",
       "Name: longitude_asc_node, dtype: float64"
      ]
     },
     "execution_count": 212,
     "metadata": {},
     "output_type": "execute_result"
    }
   ],
   "source": [
    "df['longitude_asc_node'].describe()"
   ]
  },
  {
   "cell_type": "code",
   "execution_count": 213,
   "id": "59f594ac",
   "metadata": {
    "execution": {
     "iopub.execute_input": "2023-04-11T08:40:09.306218Z",
     "iopub.status.busy": "2023-04-11T08:40:09.305481Z",
     "iopub.status.idle": "2023-04-11T08:40:09.347463Z",
     "shell.execute_reply": "2023-04-11T08:40:09.346289Z"
    },
    "papermill": {
     "duration": 0.089014,
     "end_time": "2023-04-11T08:40:09.349611",
     "exception": false,
     "start_time": "2023-04-11T08:40:09.260597",
     "status": "completed"
    },
    "tags": []
   },
   "outputs": [
    {
     "name": "stdout",
     "output_type": "stream",
     "text": [
      "      longitude_asc_node                                                 \\\n",
      "                    mean      median        min         max         std   \n",
      "class                                                                     \n",
      "AMO           183.443055  177.128329   5.423701  359.109673   99.410459   \n",
      "APO           171.142782  164.908556   2.005587  359.862742  101.731557   \n",
      "AST           214.190358  212.986253  81.917427  314.479306   93.380183   \n",
      "ATE           177.680193  169.740030   4.011744  358.617770   90.572680   \n",
      "CEN           183.332345  205.294746   4.700458  348.480186  104.754458   \n",
      "IMB           178.228367  180.497644   0.693840  358.898993  103.355329   \n",
      "MBA           169.727002  160.075903   0.000738  359.990858  102.733597   \n",
      "MCA           177.396244  174.389550   0.855640  359.199503  102.627615   \n",
      "OMB           168.718209  160.553244   0.001672  359.838015  102.420842   \n",
      "TJN           173.260882  169.393018   0.409298  359.960559  102.814384   \n",
      "TNO           187.446925  136.128652  39.262584  354.604352  119.290929   \n",
      "\n",
      "                             \n",
      "                var   count  \n",
      "class                        \n",
      "AMO     9882.439352     269  \n",
      "APO    10349.309713     485  \n",
      "AST     8719.858574       7  \n",
      "ATE     8203.410372      95  \n",
      "CEN    10973.496474      49  \n",
      "IMB    10682.324128     587  \n",
      "MBA    10554.192050  126265  \n",
      "MCA    10532.427328     354  \n",
      "OMB    10490.028842    7500  \n",
      "TJN    10570.797646    1874  \n",
      "TNO    14230.325796      13  \n"
     ]
    }
   ],
   "source": [
    "class_group=df.groupby('class').agg({'longitude_asc_node':['mean','median','min','max','std','var','count']})\n",
    "print(class_group)"
   ]
  },
  {
   "cell_type": "code",
   "execution_count": 214,
   "id": "a2732ec3",
   "metadata": {
    "execution": {
     "iopub.execute_input": "2023-04-11T08:40:09.513610Z",
     "iopub.status.busy": "2023-04-11T08:40:09.513164Z",
     "iopub.status.idle": "2023-04-11T08:40:10.286816Z",
     "shell.execute_reply": "2023-04-11T08:40:10.285500Z"
    },
    "papermill": {
     "duration": 0.818306,
     "end_time": "2023-04-11T08:40:10.290010",
     "exception": false,
     "start_time": "2023-04-11T08:40:09.471704",
     "status": "completed"
    },
    "tags": []
   },
   "outputs": [
    {
     "data": {
      "image/png": "[encoded data removed]",
      "text/plain": [
       "<Figure size 640x480 with 1 Axes>"
      ]
     },
     "metadata": {},
     "output_type": "display_data"
    }
   ],
   "source": [
    "sns.boxplot(x='condition_code',y='longitude_asc_node',data=df)\n",
    "plt.yscale('log')"
   ]
  },
  {
   "cell_type": "code",
   "execution_count": 215,
   "id": "0146681b",
   "metadata": {
    "execution": {
     "iopub.execute_input": "2023-04-11T08:40:10.474894Z",
     "iopub.status.busy": "2023-04-11T08:40:10.474463Z",
     "iopub.status.idle": "2023-04-11T08:40:10.486566Z",
     "shell.execute_reply": "2023-04-11T08:40:10.485486Z"
    },
    "papermill": {
     "duration": 0.056679,
     "end_time": "2023-04-11T08:40:10.489124",
     "exception": false,
     "start_time": "2023-04-11T08:40:10.432445",
     "status": "completed"
    },
    "tags": []
   },
   "outputs": [],
   "source": [
    "df.drop('condition_code',axis=1,inplace=True)"
   ]
  },
  {
   "cell_type": "code",
   "execution_count": 216,
   "id": "2bc66f2b",
   "metadata": {
    "execution": {
     "iopub.execute_input": "2023-04-11T08:40:10.654621Z",
     "iopub.status.busy": "2023-04-11T08:40:10.653542Z",
     "iopub.status.idle": "2023-04-11T08:40:12.375120Z",
     "shell.execute_reply": "2023-04-11T08:40:12.374292Z"
    },
    "papermill": {
     "duration": 1.768246,
     "end_time": "2023-04-11T08:40:12.380021",
     "exception": false,
     "start_time": "2023-04-11T08:40:10.611775",
     "status": "completed"
    },
    "tags": []
   },
   "outputs": [
    {
     "data": {
      "image/png": "[encoded data removed]",
      "text/plain": [
       "<Figure size 2000x1000 with 2 Axes>"
      ]
     },
     "metadata": {},
     "output_type": "display_data"
    }
   ],
   "source": [
    "plt.figure(figsize=(20,10))\n",
    "sns.set(font_scale=1.4)\n",
    "sns.heatmap(df.corr(),annot=True, cmap='inferno', fmt='.2f', annot_kws={'size':16});"
   ]
  },
  {
   "cell_type": "code",
   "execution_count": 217,
   "id": "7773ee8f",
   "metadata": {
    "execution": {
     "iopub.execute_input": "2023-04-11T08:40:12.558762Z",
     "iopub.status.busy": "2023-04-11T08:40:12.558045Z",
     "iopub.status.idle": "2023-04-11T08:40:12.576303Z",
     "shell.execute_reply": "2023-04-11T08:40:12.575331Z"
    },
    "papermill": {
     "duration": 0.066142,
     "end_time": "2023-04-11T08:40:12.578754",
     "exception": false,
     "start_time": "2023-04-11T08:40:12.512612",
     "status": "completed"
    },
    "tags": []
   },
   "outputs": [],
   "source": [
    "#orbital_period(d) and orbital_period\n",
    "df.drop('orbital_period', axis=1, inplace=True)\n",
    "#perihelion_distance and earth_min_orbit_inter_dist(au)\n",
    "df.drop('earth_min_oribit_inter_dist(au)', axis=1, inplace=True)"
   ]
  },
  {
   "cell_type": "code",
   "execution_count": 218,
   "id": "29be03e5",
   "metadata": {
    "execution": {
     "iopub.execute_input": "2023-04-11T08:40:12.669110Z",
     "iopub.status.busy": "2023-04-11T08:40:12.668370Z",
     "iopub.status.idle": "2023-04-11T08:40:12.674976Z",
     "shell.execute_reply": "2023-04-11T08:40:12.673926Z"
    },
    "papermill": {
     "duration": 0.05475,
     "end_time": "2023-04-11T08:40:12.677142",
     "exception": false,
     "start_time": "2023-04-11T08:40:12.622392",
     "status": "completed"
    },
    "tags": []
   },
   "outputs": [
    {
     "data": {
      "text/plain": [
       "(137498, 14)"
      ]
     },
     "execution_count": 218,
     "metadata": {},
     "output_type": "execute_result"
    }
   ],
   "source": [
    "df.shape"
   ]
  },
  {
   "cell_type": "code",
   "execution_count": 219,
   "id": "834d4c1d",
   "metadata": {
    "execution": {
     "iopub.execute_input": "2023-04-11T08:40:12.767574Z",
     "iopub.status.busy": "2023-04-11T08:40:12.766521Z",
     "iopub.status.idle": "2023-04-11T08:40:12.772633Z",
     "shell.execute_reply": "2023-04-11T08:40:12.771536Z"
    },
    "papermill": {
     "duration": 0.053869,
     "end_time": "2023-04-11T08:40:12.774928",
     "exception": false,
     "start_time": "2023-04-11T08:40:12.721059",
     "status": "completed"
    },
    "tags": []
   },
   "outputs": [],
   "source": [
    "#copying the current data frame into another variable for future purposes\n",
    "df2=df"
   ]
  },
  {
   "cell_type": "code",
   "execution_count": 220,
   "id": "0da6e138",
   "metadata": {
    "execution": {
     "iopub.execute_input": "2023-04-11T08:40:12.866708Z",
     "iopub.status.busy": "2023-04-11T08:40:12.865595Z",
     "iopub.status.idle": "2023-04-11T08:40:12.900956Z",
     "shell.execute_reply": "2023-04-11T08:40:12.900116Z"
    },
    "papermill": {
     "duration": 0.084546,
     "end_time": "2023-04-11T08:40:12.903479",
     "exception": false,
     "start_time": "2023-04-11T08:40:12.818933",
     "status": "completed"
    },
    "tags": []
   },
   "outputs": [],
   "source": [
    "#assign dummy values to categorical variable\n",
    "df=pd.get_dummies(df,columns=['class'])\n"
   ]
  },
  {
   "cell_type": "code",
   "execution_count": 221,
   "id": "e22aee1a",
   "metadata": {
    "execution": {
     "iopub.execute_input": "2023-04-11T08:40:12.995576Z",
     "iopub.status.busy": "2023-04-11T08:40:12.995121Z",
     "iopub.status.idle": "2023-04-11T08:40:13.002002Z",
     "shell.execute_reply": "2023-04-11T08:40:13.001067Z"
    },
    "papermill": {
     "duration": 0.054822,
     "end_time": "2023-04-11T08:40:13.004411",
     "exception": false,
     "start_time": "2023-04-11T08:40:12.949589",
     "status": "completed"
    },
    "tags": []
   },
   "outputs": [
    {
     "data": {
      "text/plain": [
       "Index(['semi-major_axis(au)', 'eccentricity', 'x-y_inclination(deg)',\n",
       "       'longitude_asc_node', 'argument_perihelion', 'perihelion_dist(au)',\n",
       "       'aphelion_dist(au)', 'data_arc(d)', 'n_obs_used', 'diameter',\n",
       "       'mean_motion(deg/d)', 'orbital_period(d)', 'mean_anomaly(deg)',\n",
       "       'class_AMO', 'class_APO', 'class_AST', 'class_ATE', 'class_CEN',\n",
       "       'class_IMB', 'class_MBA', 'class_MCA', 'class_OMB', 'class_TJN',\n",
       "       'class_TNO'],\n",
       "      dtype='object')"
      ]
     },
     "execution_count": 221,
     "metadata": {},
     "output_type": "execute_result"
    }
   ],
   "source": [
    "df.columns"
   ]
  },
  {
   "cell_type": "code",
   "execution_count": 222,
   "id": "470dc5fa",
   "metadata": {
    "execution": {
     "iopub.execute_input": "2023-04-11T08:40:13.096799Z",
     "iopub.status.busy": "2023-04-11T08:40:13.096390Z",
     "iopub.status.idle": "2023-04-11T08:40:13.118696Z",
     "shell.execute_reply": "2023-04-11T08:40:13.117915Z"
    },
    "papermill": {
     "duration": 0.070852,
     "end_time": "2023-04-11T08:40:13.120654",
     "exception": false,
     "start_time": "2023-04-11T08:40:13.049802",
     "status": "completed"
    },
    "tags": []
   },
   "outputs": [
    {
     "data": {
      "text/html": [
       "<div>\n",
       "<style scoped>\n",
       "    .dataframe tbody tr th:only-of-type {\n",
       "        vertical-align: middle;\n",
       "    }\n",
       "\n",
       "    .dataframe tbody tr th {\n",
       "        vertical-align: top;\n",
       "    }\n",
       "\n",
       "    .dataframe thead th {\n",
       "        text-align: right;\n",
       "    }\n",
       "</style>\n",
       "<table border=\"1\" class=\"dataframe\">\n",
       "  <thead>\n",
       "    <tr style=\"text-align: right;\">\n",
       "      <th></th>\n",
       "      <th>semi-major_axis(au)</th>\n",
       "      <th>eccentricity</th>\n",
       "      <th>x-y_inclination(deg)</th>\n",
       "      <th>longitude_asc_node</th>\n",
       "      <th>argument_perihelion</th>\n",
       "      <th>perihelion_dist(au)</th>\n",
       "      <th>aphelion_dist(au)</th>\n",
       "      <th>data_arc(d)</th>\n",
       "      <th>n_obs_used</th>\n",
       "      <th>diameter</th>\n",
       "      <th>...</th>\n",
       "      <th>class_APO</th>\n",
       "      <th>class_AST</th>\n",
       "      <th>class_ATE</th>\n",
       "      <th>class_CEN</th>\n",
       "      <th>class_IMB</th>\n",
       "      <th>class_MBA</th>\n",
       "      <th>class_MCA</th>\n",
       "      <th>class_OMB</th>\n",
       "      <th>class_TJN</th>\n",
       "      <th>class_TNO</th>\n",
       "    </tr>\n",
       "  </thead>\n",
       "  <tbody>\n",
       "    <tr>\n",
       "      <th>0</th>\n",
       "      <td>2.769165</td>\n",
       "      <td>0.076009</td>\n",
       "      <td>10.594067</td>\n",
       "      <td>80.305532</td>\n",
       "      <td>73.597694</td>\n",
       "      <td>2.558684</td>\n",
       "      <td>2.979647</td>\n",
       "      <td>8822.0</td>\n",
       "      <td>1002</td>\n",
       "      <td>939.4</td>\n",
       "      <td>...</td>\n",
       "      <td>0</td>\n",
       "      <td>0</td>\n",
       "      <td>0</td>\n",
       "      <td>0</td>\n",
       "      <td>0</td>\n",
       "      <td>1</td>\n",
       "      <td>0</td>\n",
       "      <td>0</td>\n",
       "      <td>0</td>\n",
       "      <td>0</td>\n",
       "    </tr>\n",
       "    <tr>\n",
       "      <th>1</th>\n",
       "      <td>2.772466</td>\n",
       "      <td>0.230337</td>\n",
       "      <td>34.836234</td>\n",
       "      <td>173.080063</td>\n",
       "      <td>310.048857</td>\n",
       "      <td>2.133865</td>\n",
       "      <td>3.411067</td>\n",
       "      <td>72318.0</td>\n",
       "      <td>8490</td>\n",
       "      <td>545</td>\n",
       "      <td>...</td>\n",
       "      <td>0</td>\n",
       "      <td>0</td>\n",
       "      <td>0</td>\n",
       "      <td>0</td>\n",
       "      <td>0</td>\n",
       "      <td>1</td>\n",
       "      <td>0</td>\n",
       "      <td>0</td>\n",
       "      <td>0</td>\n",
       "      <td>0</td>\n",
       "    </tr>\n",
       "    <tr>\n",
       "      <th>2</th>\n",
       "      <td>2.669150</td>\n",
       "      <td>0.256942</td>\n",
       "      <td>12.988919</td>\n",
       "      <td>169.852760</td>\n",
       "      <td>248.138626</td>\n",
       "      <td>1.983332</td>\n",
       "      <td>3.354967</td>\n",
       "      <td>72684.0</td>\n",
       "      <td>7104</td>\n",
       "      <td>246.596</td>\n",
       "      <td>...</td>\n",
       "      <td>0</td>\n",
       "      <td>0</td>\n",
       "      <td>0</td>\n",
       "      <td>0</td>\n",
       "      <td>0</td>\n",
       "      <td>1</td>\n",
       "      <td>0</td>\n",
       "      <td>0</td>\n",
       "      <td>0</td>\n",
       "      <td>0</td>\n",
       "    </tr>\n",
       "    <tr>\n",
       "      <th>3</th>\n",
       "      <td>2.361418</td>\n",
       "      <td>0.088721</td>\n",
       "      <td>7.141771</td>\n",
       "      <td>103.810804</td>\n",
       "      <td>150.728541</td>\n",
       "      <td>2.151909</td>\n",
       "      <td>2.570926</td>\n",
       "      <td>24288.0</td>\n",
       "      <td>9325</td>\n",
       "      <td>525.4</td>\n",
       "      <td>...</td>\n",
       "      <td>0</td>\n",
       "      <td>0</td>\n",
       "      <td>0</td>\n",
       "      <td>0</td>\n",
       "      <td>0</td>\n",
       "      <td>1</td>\n",
       "      <td>0</td>\n",
       "      <td>0</td>\n",
       "      <td>0</td>\n",
       "      <td>0</td>\n",
       "    </tr>\n",
       "    <tr>\n",
       "      <th>4</th>\n",
       "      <td>2.574249</td>\n",
       "      <td>0.191095</td>\n",
       "      <td>5.366988</td>\n",
       "      <td>141.576605</td>\n",
       "      <td>358.687607</td>\n",
       "      <td>2.082324</td>\n",
       "      <td>3.066174</td>\n",
       "      <td>63507.0</td>\n",
       "      <td>2916</td>\n",
       "      <td>106.699</td>\n",
       "      <td>...</td>\n",
       "      <td>0</td>\n",
       "      <td>0</td>\n",
       "      <td>0</td>\n",
       "      <td>0</td>\n",
       "      <td>0</td>\n",
       "      <td>1</td>\n",
       "      <td>0</td>\n",
       "      <td>0</td>\n",
       "      <td>0</td>\n",
       "      <td>0</td>\n",
       "    </tr>\n",
       "  </tbody>\n",
       "</table>\n",
       "<p>5 rows × 24 columns</p>\n",
       "</div>"
      ],
      "text/plain": [
       "   semi-major_axis(au)  eccentricity  x-y_inclination(deg)  \\\n",
       "0             2.769165      0.076009             10.594067   \n",
       "1             2.772466      0.230337             34.836234   \n",
       "2             2.669150      0.256942             12.988919   \n",
       "3             2.361418      0.088721              7.141771   \n",
       "4             2.574249      0.191095              5.366988   \n",
       "\n",
       "   longitude_asc_node  argument_perihelion  perihelion_dist(au)  \\\n",
       "0           80.305532            73.597694             2.558684   \n",
       "1          173.080063           310.048857             2.133865   \n",
       "2          169.852760           248.138626             1.983332   \n",
       "3          103.810804           150.728541             2.151909   \n",
       "4          141.576605           358.687607             2.082324   \n",
       "\n",
       "   aphelion_dist(au)  data_arc(d)  n_obs_used diameter  ...  class_APO  \\\n",
       "0           2.979647       8822.0        1002    939.4  ...          0   \n",
       "1           3.411067      72318.0        8490      545  ...          0   \n",
       "2           3.354967      72684.0        7104  246.596  ...          0   \n",
       "3           2.570926      24288.0        9325    525.4  ...          0   \n",
       "4           3.066174      63507.0        2916  106.699  ...          0   \n",
       "\n",
       "   class_AST  class_ATE  class_CEN  class_IMB  class_MBA  class_MCA  \\\n",
       "0          0          0          0          0          1          0   \n",
       "1          0          0          0          0          1          0   \n",
       "2          0          0          0          0          1          0   \n",
       "3          0          0          0          0          1          0   \n",
       "4          0          0          0          0          1          0   \n",
       "\n",
       "   class_OMB  class_TJN  class_TNO  \n",
       "0          0          0          0  \n",
       "1          0          0          0  \n",
       "2          0          0          0  \n",
       "3          0          0          0  \n",
       "4          0          0          0  \n",
       "\n",
       "[5 rows x 24 columns]"
      ]
     },
     "execution_count": 222,
     "metadata": {},
     "output_type": "execute_result"
    }
   ],
   "source": [
    "df.head()"
   ]
  },
  {
   "cell_type": "code",
   "execution_count": 223,
   "id": "50f5fba1",
   "metadata": {
    "execution": {
     "iopub.execute_input": "2023-04-11T08:40:13.211723Z",
     "iopub.status.busy": "2023-04-11T08:40:13.210600Z",
     "iopub.status.idle": "2023-04-11T08:40:13.216549Z",
     "shell.execute_reply": "2023-04-11T08:40:13.215829Z"
    },
    "papermill": {
     "duration": 0.05349,
     "end_time": "2023-04-11T08:40:13.218517",
     "exception": false,
     "start_time": "2023-04-11T08:40:13.165027",
     "status": "completed"
    },
    "tags": []
   },
   "outputs": [
    {
     "data": {
      "text/plain": [
       "(137498, 24)"
      ]
     },
     "execution_count": 223,
     "metadata": {},
     "output_type": "execute_result"
    }
   ],
   "source": [
    "df.shape"
   ]
  },
  {
   "cell_type": "code",
   "execution_count": 224,
   "id": "4c80c3a7",
   "metadata": {
    "execution": {
     "iopub.execute_input": "2023-04-11T08:40:13.487247Z",
     "iopub.status.busy": "2023-04-11T08:40:13.486536Z",
     "iopub.status.idle": "2023-04-11T08:40:13.501778Z",
     "shell.execute_reply": "2023-04-11T08:40:13.500799Z"
    },
    "papermill": {
     "duration": 0.063748,
     "end_time": "2023-04-11T08:40:13.504156",
     "exception": false,
     "start_time": "2023-04-11T08:40:13.440408",
     "status": "completed"
    },
    "tags": []
   },
   "outputs": [],
   "source": [
    "\n",
    "y=df['longitude_asc_node'] #target\n",
    "x=df.drop(columns='longitude_asc_node') #independent features"
   ]
  },
  {
   "cell_type": "code",
   "execution_count": 225,
   "id": "088c175c",
   "metadata": {
    "execution": {
     "iopub.execute_input": "2023-04-11T08:40:13.682738Z",
     "iopub.status.busy": "2023-04-11T08:40:13.681995Z",
     "iopub.status.idle": "2023-04-11T08:40:13.747346Z",
     "shell.execute_reply": "2023-04-11T08:40:13.746415Z"
    },
    "papermill": {
     "duration": 0.113318,
     "end_time": "2023-04-11T08:40:13.749891",
     "exception": false,
     "start_time": "2023-04-11T08:40:13.636573",
     "status": "completed"
    },
    "tags": []
   },
   "outputs": [],
   "source": [
    "#apply a standardized scaler to the data\n",
    "SS_scaler=StandardScaler()\n",
    "#Fit the standard scaler to the data\n",
    "x_std=SS_scaler.fit_transform(x)"
   ]
  },
  {
   "cell_type": "code",
   "execution_count": 226,
   "id": "e9281596",
   "metadata": {
    "execution": {
     "iopub.execute_input": "2023-04-11T08:40:13.932130Z",
     "iopub.status.busy": "2023-04-11T08:40:13.931721Z",
     "iopub.status.idle": "2023-04-11T08:40:13.976916Z",
     "shell.execute_reply": "2023-04-11T08:40:13.975655Z"
    },
    "papermill": {
     "duration": 0.095334,
     "end_time": "2023-04-11T08:40:13.979645",
     "exception": false,
     "start_time": "2023-04-11T08:40:13.884311",
     "status": "completed"
    },
    "tags": []
   },
   "outputs": [],
   "source": [
    "X_train,X_test,Y_train,Y_test=train_test_split(x_std,y,test_size=0.2,random_state=42)"
   ]
  },
  {
   "cell_type": "code",
   "execution_count": 227,
   "id": "61ef4bca",
   "metadata": {
    "execution": {
     "iopub.execute_input": "2023-04-11T08:40:14.071833Z",
     "iopub.status.busy": "2023-04-11T08:40:14.071412Z",
     "iopub.status.idle": "2023-04-11T08:40:14.076044Z",
     "shell.execute_reply": "2023-04-11T08:40:14.075235Z"
    },
    "papermill": {
     "duration": 0.053041,
     "end_time": "2023-04-11T08:40:14.078144",
     "exception": false,
     "start_time": "2023-04-11T08:40:14.025103",
     "status": "completed"
    },
    "tags": []
   },
   "outputs": [],
   "source": [
    "from sklearn.metrics import mean_squared_error\n",
    "from sklearn.metrics import r2_score"
   ]
  },
  {
   "cell_type": "code",
   "execution_count": 229,
   "id": "93adbf52",
   "metadata": {
    "execution": {
     "iopub.execute_input": "2023-04-11T08:40:14.259116Z",
     "iopub.status.busy": "2023-04-11T08:40:14.258414Z",
     "iopub.status.idle": "2023-04-11T08:40:14.455890Z",
     "shell.execute_reply": "2023-04-11T08:40:14.454176Z"
    },
    "papermill": {
     "duration": 0.248179,
     "end_time": "2023-04-11T08:40:14.460377",
     "exception": false,
     "start_time": "2023-04-11T08:40:14.212198",
     "status": "completed"
    },
    "tags": []
   },
   "outputs": [
    {
     "name": "stdout",
     "output_type": "stream",
     "text": [
      "root mean squared error:102.03542942687949\n",
      "r2: 0.013815982376420344\n"
     ]
    }
   ],
   "source": [
    "from sklearn.linear_model import LinearRegression\n",
    "model=LinearRegression()\n",
    "model.fit(X_train,Y_train)\n",
    "longascn_pred=model.predict(X_test)\n",
    "mse=mean_squared_error(Y_test,longascn_pred)\n",
    "rmse=np.sqrt(mse)\n",
    "print(\"root mean squared error:\"+str(rmse))\n",
    "r2=r2_score(Y_test,longascn_pred)\n",
    "print(\"r2:\",r2)"
   ]
  },
  {
   "cell_type": "code",
   "execution_count": 230,
   "id": "310bcc48",
   "metadata": {
    "execution": {
     "iopub.execute_input": "2023-04-11T08:40:14.715908Z",
     "iopub.status.busy": "2023-04-11T08:40:14.715505Z",
     "iopub.status.idle": "2023-04-11T08:40:14.721450Z",
     "shell.execute_reply": "2023-04-11T08:40:14.720385Z"
    },
    "papermill": {
     "duration": 0.055271,
     "end_time": "2023-04-11T08:40:14.724283",
     "exception": false,
     "start_time": "2023-04-11T08:40:14.669012",
     "status": "completed"
    },
    "tags": []
   },
   "outputs": [
    {
     "name": "stdout",
     "output_type": "stream",
     "text": [
      "constant=169.9463284799177\n",
      "coefficients=[ 9.15894867e+13 -1.53906250e+00 -2.10131928e+00 -1.08626973e+01\n",
      " -1.55183454e+13 -8.71072725e+13  3.01177053e+00 -5.98230596e+00\n",
      "  1.62340287e+00  2.97333898e-01  6.94790703e-02 -5.18960508e-01\n",
      "  2.39811926e+11  3.21753622e+11  3.87220056e+10  1.42603964e+11\n",
      "  1.02433148e+11  3.53842431e+11  1.48648681e+12  2.75018383e+11\n",
      "  1.23245382e+12  6.29252219e+11  5.27680472e+10]\n"
     ]
    }
   ],
   "source": [
    "print(f'constant={model.intercept_}')\n",
    "print(f'coefficients={model.coef_}')"
   ]
  },
  {
   "cell_type": "code",
   "execution_count": 231,
   "id": "373dd89f",
   "metadata": {
    "execution": {
     "iopub.execute_input": "2023-04-11T08:40:14.907700Z",
     "iopub.status.busy": "2023-04-11T08:40:14.906127Z",
     "iopub.status.idle": "2023-04-11T08:40:14.914156Z",
     "shell.execute_reply": "2023-04-11T08:40:14.912946Z"
    },
    "papermill": {
     "duration": 0.056095,
     "end_time": "2023-04-11T08:40:14.916432",
     "exception": false,
     "start_time": "2023-04-11T08:40:14.860337",
     "status": "completed"
    },
    "tags": []
   },
   "outputs": [
    {
     "name": "stdout",
     "output_type": "stream",
     "text": [
      "Adjusted r2 score=0.3007326860430457\n"
     ]
    }
   ],
   "source": [
    "n=137636 #number of observation\n",
    "p=23 #number of independent variables\n",
    "R2=0.3008495396647336\n",
    "adj_r2=1-(1-R2)*(n-1)/(n-p-1)\n",
    "print(f'Adjusted r2 score={adj_r2}')"
   ]
  },
  {
   "cell_type": "code",
   "execution_count": 232,
   "id": "703d1f6b",
   "metadata": {
    "execution": {
     "iopub.execute_input": "2023-04-11T08:40:15.098811Z",
     "iopub.status.busy": "2023-04-11T08:40:15.098434Z",
     "iopub.status.idle": "2023-04-11T08:40:15.152493Z",
     "shell.execute_reply": "2023-04-11T08:40:15.151036Z"
    },
    "papermill": {
     "duration": 0.104379,
     "end_time": "2023-04-11T08:40:15.156554",
     "exception": false,
     "start_time": "2023-04-11T08:40:15.052175",
     "status": "completed"
    },
    "tags": []
   },
   "outputs": [
    {
     "name": "stdout",
     "output_type": "stream",
     "text": [
      "root mean square error : 102.03555466213882\n",
      "R2 Score :  0.013813561548915776\n"
     ]
    }
   ],
   "source": [
    "from sklearn.linear_model import Ridge\n",
    "model = Ridge()\n",
    "model.fit(X_train, Y_train)\n",
    "model.predict(X_test)\n",
    "\n",
    "omPred  = model.predict(X_test)\n",
    "mse = mean_squared_error(Y_test, omPred)\n",
    "rmse = np.sqrt(mse)\n",
    "print(\"root mean square error : \"+str(rmse))\n",
    "\n",
    "r2 = r2_score(Y_test,omPred)\n",
    "print(\"R2 Score : \",r2) "
   ]
  },
  {
   "cell_type": "code",
   "execution_count": 233,
   "id": "0c1aa602",
   "metadata": {
    "execution": {
     "iopub.execute_input": "2023-04-11T08:40:15.404354Z",
     "iopub.status.busy": "2023-04-11T08:40:15.403927Z",
     "iopub.status.idle": "2023-04-11T08:40:25.926433Z",
     "shell.execute_reply": "2023-04-11T08:40:25.924869Z"
    },
    "papermill": {
     "duration": 10.572524,
     "end_time": "2023-04-11T08:40:25.930725",
     "exception": false,
     "start_time": "2023-04-11T08:40:15.358201",
     "status": "completed"
    },
    "tags": []
   },
   "outputs": [
    {
     "name": "stderr",
     "output_type": "stream",
     "text": [
      "c:\\Users\\rithv\\AppData\\Local\\Programs\\Python\\Python310\\lib\\site-packages\\sklearn\\linear_model\\_ridge.py:216: LinAlgWarning: Ill-conditioned matrix (rcond=9.17698e-17): result may not be accurate.\n",
      "  return linalg.solve(A, Xy, assume_a=\"pos\", overwrite_a=True).T\n"
     ]
    },
    {
     "data": {
      "text/html": [
       "<style>#sk-container-id-3 {color: black;background-color: white;}#sk-container-id-3 pre{padding: 0;}#sk-container-id-3 div.sk-toggleable {background-color: white;}#sk-container-id-3 label.sk-toggleable__label {cursor: pointer;display: block;width: 100%;margin-bottom: 0;padding: 0.3em;box-sizing: border-box;text-align: center;}#sk-container-id-3 label.sk-toggleable__label-arrow:before {content: \"▸\";float: left;margin-right: 0.25em;color: #696969;}#sk-container-id-3 label.sk-toggleable__label-arrow:hover:before {color: black;}#sk-container-id-3 div.sk-estimator:hover label.sk-toggleable__label-arrow:before {color: black;}#sk-container-id-3 div.sk-toggleable__content {max-height: 0;max-width: 0;overflow: hidden;text-align: left;background-color: #f0f8ff;}#sk-container-id-3 div.sk-toggleable__content pre {margin: 0.2em;color: black;border-radius: 0.25em;background-color: #f0f8ff;}#sk-container-id-3 input.sk-toggleable__control:checked~div.sk-toggleable__content {max-height: 200px;max-width: 100%;overflow: auto;}#sk-container-id-3 input.sk-toggleable__control:checked~label.sk-toggleable__label-arrow:before {content: \"▾\";}#sk-container-id-3 div.sk-estimator input.sk-toggleable__control:checked~label.sk-toggleable__label {background-color: #d4ebff;}#sk-container-id-3 div.sk-label input.sk-toggleable__control:checked~label.sk-toggleable__label {background-color: #d4ebff;}#sk-container-id-3 input.sk-hidden--visually {border: 0;clip: rect(1px 1px 1px 1px);clip: rect(1px, 1px, 1px, 1px);height: 1px;margin: -1px;overflow: hidden;padding: 0;position: absolute;width: 1px;}#sk-container-id-3 div.sk-estimator {font-family: monospace;background-color: #f0f8ff;border: 1px dotted black;border-radius: 0.25em;box-sizing: border-box;margin-bottom: 0.5em;}#sk-container-id-3 div.sk-estimator:hover {background-color: #d4ebff;}#sk-container-id-3 div.sk-parallel-item::after {content: \"\";width: 100%;border-bottom: 1px solid gray;flex-grow: 1;}#sk-container-id-3 div.sk-label:hover label.sk-toggleable__label {background-color: #d4ebff;}#sk-container-id-3 div.sk-serial::before {content: \"\";position: absolute;border-left: 1px solid gray;box-sizing: border-box;top: 0;bottom: 0;left: 50%;z-index: 0;}#sk-container-id-3 div.sk-serial {display: flex;flex-direction: column;align-items: center;background-color: white;padding-right: 0.2em;padding-left: 0.2em;position: relative;}#sk-container-id-3 div.sk-item {position: relative;z-index: 1;}#sk-container-id-3 div.sk-parallel {display: flex;align-items: stretch;justify-content: center;background-color: white;position: relative;}#sk-container-id-3 div.sk-item::before, #sk-container-id-3 div.sk-parallel-item::before {content: \"\";position: absolute;border-left: 1px solid gray;box-sizing: border-box;top: 0;bottom: 0;left: 50%;z-index: -1;}#sk-container-id-3 div.sk-parallel-item {display: flex;flex-direction: column;z-index: 1;position: relative;background-color: white;}#sk-container-id-3 div.sk-parallel-item:first-child::after {align-self: flex-end;width: 50%;}#sk-container-id-3 div.sk-parallel-item:last-child::after {align-self: flex-start;width: 50%;}#sk-container-id-3 div.sk-parallel-item:only-child::after {width: 0;}#sk-container-id-3 div.sk-dashed-wrapped {border: 1px dashed gray;margin: 0 0.4em 0.5em 0.4em;box-sizing: border-box;padding-bottom: 0.4em;background-color: white;}#sk-container-id-3 div.sk-label label {font-family: monospace;font-weight: bold;display: inline-block;line-height: 1.2em;}#sk-container-id-3 div.sk-label-container {text-align: center;}#sk-container-id-3 div.sk-container {/* jupyter's `normalize.less` sets `[hidden] { display: none; }` but bootstrap.min.css set `[hidden] { display: none !important; }` so we also need the `!important` here to be able to override the default hidden behavior on the sphinx rendered scikit-learn.org. See: https://github.com/scikit-learn/scikit-learn/issues/21755 */display: inline-block !important;position: relative;}#sk-container-id-3 div.sk-text-repr-fallback {display: none;}</style><div id=\"sk-container-id-3\" class=\"sk-top-container\"><div class=\"sk-text-repr-fallback\"><pre>GridSearchCV(cv=5, estimator=Ridge(),\n",
       "             param_grid={&#x27;alpha&#x27;: [1e-15, 1e-10, 1e-08, 0.001, 0.01, 1, 5, 10,\n",
       "                                   20, 25, 30, 35, 40, 45, 50, 60, 70, 85, 100,\n",
       "                                   105, 125, 145, 150, 160, 168, 170, 172, 171,\n",
       "                                   180, 200, ...]},\n",
       "             scoring=&#x27;neg_mean_squared_error&#x27;)</pre><b>In a Jupyter environment, please rerun this cell to show the HTML representation or trust the notebook. <br />On GitHub, the HTML representation is unable to render, please try loading this page with nbviewer.org.</b></div><div class=\"sk-container\" hidden><div class=\"sk-item sk-dashed-wrapped\"><div class=\"sk-label-container\"><div class=\"sk-label sk-toggleable\"><input class=\"sk-toggleable__control sk-hidden--visually\" id=\"sk-estimator-id-7\" type=\"checkbox\" ><label for=\"sk-estimator-id-7\" class=\"sk-toggleable__label sk-toggleable__label-arrow\">GridSearchCV</label><div class=\"sk-toggleable__content\"><pre>GridSearchCV(cv=5, estimator=Ridge(),\n",
       "             param_grid={&#x27;alpha&#x27;: [1e-15, 1e-10, 1e-08, 0.001, 0.01, 1, 5, 10,\n",
       "                                   20, 25, 30, 35, 40, 45, 50, 60, 70, 85, 100,\n",
       "                                   105, 125, 145, 150, 160, 168, 170, 172, 171,\n",
       "                                   180, 200, ...]},\n",
       "             scoring=&#x27;neg_mean_squared_error&#x27;)</pre></div></div></div><div class=\"sk-parallel\"><div class=\"sk-parallel-item\"><div class=\"sk-item\"><div class=\"sk-label-container\"><div class=\"sk-label sk-toggleable\"><input class=\"sk-toggleable__control sk-hidden--visually\" id=\"sk-estimator-id-8\" type=\"checkbox\" ><label for=\"sk-estimator-id-8\" class=\"sk-toggleable__label sk-toggleable__label-arrow\">estimator: Ridge</label><div class=\"sk-toggleable__content\"><pre>Ridge()</pre></div></div></div><div class=\"sk-serial\"><div class=\"sk-item\"><div class=\"sk-estimator sk-toggleable\"><input class=\"sk-toggleable__control sk-hidden--visually\" id=\"sk-estimator-id-9\" type=\"checkbox\" ><label for=\"sk-estimator-id-9\" class=\"sk-toggleable__label sk-toggleable__label-arrow\">Ridge</label><div class=\"sk-toggleable__content\"><pre>Ridge()</pre></div></div></div></div></div></div></div></div></div></div>"
      ],
      "text/plain": [
       "GridSearchCV(cv=5, estimator=Ridge(),\n",
       "             param_grid={'alpha': [1e-15, 1e-10, 1e-08, 0.001, 0.01, 1, 5, 10,\n",
       "                                   20, 25, 30, 35, 40, 45, 50, 60, 70, 85, 100,\n",
       "                                   105, 125, 145, 150, 160, 168, 170, 172, 171,\n",
       "                                   180, 200, ...]},\n",
       "             scoring='neg_mean_squared_error')"
      ]
     },
     "execution_count": 233,
     "metadata": {},
     "output_type": "execute_result"
    }
   ],
   "source": [
    "from sklearn.model_selection import GridSearchCV #iteration tool\n",
    "\n",
    "ridge=Ridge()\n",
    "parameters={\"alpha\":[1e-15,1e-10,1e-8,1e-3,1e-2,1,5,10,20,25,30,35,40,45,50,60,70,85,100,105,125,145,150,160,168,170,172,171,180,200,210]}\n",
    "ridge_regressor=GridSearchCV(ridge,parameters,scoring='neg_mean_squared_error',cv=5)\n",
    "ridge_regressor.fit(X_train,Y_train)"
   ]
  },
  {
   "cell_type": "code",
   "execution_count": 234,
   "id": "ad3726b3",
   "metadata": {
    "execution": {
     "iopub.execute_input": "2023-04-11T08:40:26.089155Z",
     "iopub.status.busy": "2023-04-11T08:40:26.088171Z",
     "iopub.status.idle": "2023-04-11T08:40:26.094176Z",
     "shell.execute_reply": "2023-04-11T08:40:26.093110Z"
    },
    "papermill": {
     "duration": 0.055933,
     "end_time": "2023-04-11T08:40:26.096604",
     "exception": false,
     "start_time": "2023-04-11T08:40:26.040671",
     "status": "completed"
    },
    "tags": []
   },
   "outputs": [
    {
     "name": "stdout",
     "output_type": "stream",
     "text": [
      "{'alpha': 210}\n"
     ]
    }
   ],
   "source": [
    "print(ridge_regressor.best_params_) #best alpha value to use"
   ]
  },
  {
   "cell_type": "code",
   "execution_count": 235,
   "id": "de7f48e8",
   "metadata": {
    "execution": {
     "iopub.execute_input": "2023-04-11T08:40:26.281278Z",
     "iopub.status.busy": "2023-04-11T08:40:26.280626Z",
     "iopub.status.idle": "2023-04-11T08:40:26.332270Z",
     "shell.execute_reply": "2023-04-11T08:40:26.331114Z"
    },
    "papermill": {
     "duration": 0.10279,
     "end_time": "2023-04-11T08:40:26.335950",
     "exception": false,
     "start_time": "2023-04-11T08:40:26.233160",
     "status": "completed"
    },
    "tags": []
   },
   "outputs": [
    {
     "name": "stdout",
     "output_type": "stream",
     "text": [
      "root mean square error : 102.03564354029906\n",
      "R2 Score :  0.013811843511026711\n"
     ]
    }
   ],
   "source": [
    "model = Ridge(alpha=210)\n",
    "model.fit(X_train, Y_train)\n",
    "model.predict(X_test)\n",
    "\n",
    "omPred  = model.predict(X_test)\n",
    "mse = mean_squared_error(Y_test, omPred)\n",
    "rmse = np.sqrt(mse)\n",
    "print(\"root mean square error : \"+str(rmse))\n",
    "\n",
    "r2 = r2_score(Y_test,omPred)\n",
    "print(\"R2 Score : \",r2) "
   ]
  },
  {
   "cell_type": "code",
   "execution_count": 236,
   "id": "57aec1bf",
   "metadata": {
    "execution": {
     "iopub.execute_input": "2023-04-11T08:40:26.678490Z",
     "iopub.status.busy": "2023-04-11T08:40:26.678074Z",
     "iopub.status.idle": "2023-04-11T08:40:26.782401Z",
     "shell.execute_reply": "2023-04-11T08:40:26.781079Z"
    },
    "papermill": {
     "duration": 0.155241,
     "end_time": "2023-04-11T08:40:26.786638",
     "exception": false,
     "start_time": "2023-04-11T08:40:26.631397",
     "status": "completed"
    },
    "tags": []
   },
   "outputs": [
    {
     "name": "stdout",
     "output_type": "stream",
     "text": [
      "root mean square error : 102.03669760273843\n",
      "R2 Score :  0.013791468096572723\n"
     ]
    }
   ],
   "source": [
    "from sklearn import linear_model\n",
    "model = linear_model.Lasso(alpha=0.1)\n",
    "model.fit(X_train, Y_train)\n",
    "model.predict(X_test)\n",
    "\n",
    "omPred  = model.predict(X_test)\n",
    "mse = mean_squared_error(Y_test, omPred)\n",
    "rmse = np.sqrt(mse)\n",
    "print(\"root mean square error : \"+str(rmse))\n",
    "\n",
    "r2 = r2_score(Y_test,omPred)\n",
    "print(\"R2 Score : \",r2)"
   ]
  },
  {
   "cell_type": "code",
   "execution_count": 237,
   "id": "39f58b87",
   "metadata": {
    "execution": {
     "iopub.execute_input": "2023-04-11T08:40:27.150140Z",
     "iopub.status.busy": "2023-04-11T08:40:27.149749Z",
     "iopub.status.idle": "2023-04-11T08:41:20.851022Z",
     "shell.execute_reply": "2023-04-11T08:41:20.849748Z"
    },
    "papermill": {
     "duration": 53.754103,
     "end_time": "2023-04-11T08:41:20.855746",
     "exception": false,
     "start_time": "2023-04-11T08:40:27.101643",
     "status": "completed"
    },
    "tags": []
   },
   "outputs": [
    {
     "name": "stderr",
     "output_type": "stream",
     "text": [
      "c:\\Users\\rithv\\AppData\\Local\\Programs\\Python\\Python310\\lib\\site-packages\\sklearn\\linear_model\\_coordinate_descent.py:631: ConvergenceWarning: Objective did not converge. You might want to increase the number of iterations, check the scale of the features or consider increasing regularisation. Duality gap: 4.560e+08, tolerance: 9.249e+04\n",
      "  model = cd_fast.enet_coordinate_descent(\n",
      "c:\\Users\\rithv\\AppData\\Local\\Programs\\Python\\Python310\\lib\\site-packages\\sklearn\\linear_model\\_coordinate_descent.py:631: ConvergenceWarning: Objective did not converge. You might want to increase the number of iterations, check the scale of the features or consider increasing regularisation. Duality gap: 4.579e+08, tolerance: 9.280e+04\n",
      "  model = cd_fast.enet_coordinate_descent(\n",
      "c:\\Users\\rithv\\AppData\\Local\\Programs\\Python\\Python310\\lib\\site-packages\\sklearn\\linear_model\\_coordinate_descent.py:631: ConvergenceWarning: Objective did not converge. You might want to increase the number of iterations, check the scale of the features or consider increasing regularisation. Duality gap: 4.584e+08, tolerance: 9.286e+04\n",
      "  model = cd_fast.enet_coordinate_descent(\n",
      "c:\\Users\\rithv\\AppData\\Local\\Programs\\Python\\Python310\\lib\\site-packages\\sklearn\\linear_model\\_coordinate_descent.py:631: ConvergenceWarning: Objective did not converge. You might want to increase the number of iterations, check the scale of the features or consider increasing regularisation. Duality gap: 4.582e+08, tolerance: 9.286e+04\n",
      "  model = cd_fast.enet_coordinate_descent(\n"
     ]
    }
   ],
   "source": [
    "from sklearn.linear_model import Lasso\n",
    "from sklearn.model_selection import GridSearchCV\n",
    "lasso=Lasso()\n",
    "parameters={\"alpha\":[1e-15,1e-10,1e-8,1e-3,1e-2,1,5,10,20,25,30,35,40,45,50,60,70,85,100,105,125,145,150,160,168,170,172,171,180,200]}\n",
    "lasso_regressor=GridSearchCV(lasso,parameters,scoring='neg_mean_squared_error',cv=5)\n",
    "lasso_regressor.fit(X_train,Y_train)"
   ]
  },
  {
   "cell_type": "code",
   "execution_count": 240,
   "id": "d915d6ca",
   "metadata": {
    "execution": {
     "iopub.execute_input": "2023-04-11T08:41:21.220451Z",
     "iopub.status.busy": "2023-04-11T08:41:21.219652Z",
     "iopub.status.idle": "2023-04-11T08:41:23.354517Z",
     "shell.execute_reply": "2023-04-11T08:41:23.352945Z"
    },
    "papermill": {
     "duration": 2.188487,
     "end_time": "2023-04-11T08:41:23.359303",
     "exception": false,
     "start_time": "2023-04-11T08:41:21.170816",
     "status": "completed"
    },
    "tags": []
   },
   "outputs": [
    {
     "name": "stdout",
     "output_type": "stream",
     "text": [
      "root mean square error : 102.03555427871304\n",
      "R2 Score :  0.01381356896063246\n"
     ]
    },
    {
     "name": "stderr",
     "output_type": "stream",
     "text": [
      "c:\\Users\\rithv\\AppData\\Local\\Programs\\Python\\Python310\\lib\\site-packages\\sklearn\\linear_model\\_coordinate_descent.py:631: ConvergenceWarning: Objective did not converge. You might want to increase the number of iterations, check the scale of the features or consider increasing regularisation. Duality gap: 5.724e+08, tolerance: 1.160e+05\n",
      "  model = cd_fast.enet_coordinate_descent(\n"
     ]
    }
   ],
   "source": [
    "from sklearn import linear_model\n",
    "model = linear_model.Lasso(alpha=1e-15)\n",
    "model.fit(X_train, Y_train)\n",
    "model.predict(X_test)\n",
    "\n",
    "omPred  = model.predict(X_test)\n",
    "mse = mean_squared_error(Y_test, omPred)\n",
    "rmse = np.sqrt(mse)\n",
    "print(\"root mean square error : \"+str(rmse))\n",
    "\n",
    "r2 = r2_score(Y_test,omPred)\n",
    "print(\"R2 Score : \",r2)"
   ]
  },
  {
   "cell_type": "code",
   "execution_count": 241,
   "id": "69a48885",
   "metadata": {
    "execution": {
     "iopub.execute_input": "2023-04-11T08:41:23.724143Z",
     "iopub.status.busy": "2023-04-11T08:41:23.723748Z",
     "iopub.status.idle": "2023-04-11T08:43:17.976293Z",
     "shell.execute_reply": "2023-04-11T08:43:17.975049Z"
    },
    "papermill": {
     "duration": 114.351304,
     "end_time": "2023-04-11T08:43:18.026992",
     "exception": false,
     "start_time": "2023-04-11T08:41:23.675688",
     "status": "completed"
    },
    "tags": []
   },
   "outputs": [
    {
     "name": "stdout",
     "output_type": "stream",
     "text": [
      "root mean square error : 103.85100570232117\n",
      "R2 Score :  -0.021591756992877187\n"
     ]
    }
   ],
   "source": [
    "from sklearn.neighbors import KNeighborsRegressor\n",
    "model = KNeighborsRegressor()\n",
    "model.fit(X_train, Y_train)\n",
    "model.predict(X_test)\n",
    "\n",
    "omPred  = model.predict(X_test)\n",
    "mse = mean_squared_error(Y_test, omPred)\n",
    "rmse = np.sqrt(mse)\n",
    "print(\"root mean square error : \"+str(rmse))\n",
    "\n",
    "r2 = r2_score(Y_test,omPred)\n",
    "print(\"R2 Score : \",r2)"
   ]
  },
  {
   "cell_type": "code",
   "execution_count": 242,
   "id": "fe64d411",
   "metadata": {
    "execution": {
     "iopub.execute_input": "2023-04-11T08:43:19.230371Z",
     "iopub.status.busy": "2023-04-11T08:43:19.229942Z",
     "iopub.status.idle": "2023-04-11T08:43:22.742269Z",
     "shell.execute_reply": "2023-04-11T08:43:22.740995Z"
    },
    "papermill": {
     "duration": 3.564749,
     "end_time": "2023-04-11T08:43:22.744922",
     "exception": false,
     "start_time": "2023-04-11T08:43:19.180173",
     "status": "completed"
    },
    "tags": []
   },
   "outputs": [
    {
     "name": "stdout",
     "output_type": "stream",
     "text": [
      "root mean square error : 134.38155214272584\n",
      "R2 Score :  -0.7105480285735155\n"
     ]
    }
   ],
   "source": [
    "from sklearn.tree import DecisionTreeRegressor\n",
    "model = DecisionTreeRegressor()\n",
    "model.fit(X_train, Y_train)\n",
    "model.predict(X_test)\n",
    "\n",
    "omPred  = model.predict(X_test)\n",
    "mse = mean_squared_error(Y_test, omPred)\n",
    "rmse = np.sqrt(mse)\n",
    "print(\"root mean square error : \"+str(rmse))\n",
    "r2 = r2_score(Y_test,omPred)\n",
    "print(\"R2 Score : \",r2) "
   ]
  },
  {
   "cell_type": "code",
   "execution_count": 243,
   "id": "ed4cc1db",
   "metadata": {
    "execution": {
     "iopub.execute_input": "2023-04-11T08:43:22.941794Z",
     "iopub.status.busy": "2023-04-11T08:43:22.941412Z",
     "iopub.status.idle": "2023-04-11T08:46:52.708209Z",
     "shell.execute_reply": "2023-04-11T08:46:52.706980Z"
    },
    "papermill": {
     "duration": 209.867152,
     "end_time": "2023-04-11T08:46:52.758781",
     "exception": false,
     "start_time": "2023-04-11T08:43:22.891629",
     "status": "completed"
    },
    "tags": []
   },
   "outputs": [
    {
     "name": "stdout",
     "output_type": "stream",
     "text": [
      "root mean square error : 95.14421321983872\n",
      "R2 Score :  0.1425264647016955\n"
     ]
    }
   ],
   "source": [
    "from sklearn.ensemble import RandomForestRegressor\n",
    "model = RandomForestRegressor()\n",
    "model.fit(X_train, Y_train)\n",
    "model.predict(X_test)\n",
    "\n",
    "omPred  = model.predict(X_test)\n",
    "mse = mean_squared_error(Y_test, omPred)\n",
    "rmse = np.sqrt(mse)\n",
    "print(\"root mean square error : \"+str(rmse))\n",
    "\n",
    "r2 = r2_score(Y_test,omPred)\n",
    "print(\"R2 Score : \",r2)"
   ]
  },
  {
   "cell_type": "code",
   "execution_count": 244,
   "id": "ab8230a4",
   "metadata": {
    "execution": {
     "iopub.execute_input": "2023-04-11T08:47:06.547883Z",
     "iopub.status.busy": "2023-04-11T08:47:06.547089Z",
     "iopub.status.idle": "2023-04-11T08:47:06.552527Z",
     "shell.execute_reply": "2023-04-11T08:47:06.551599Z"
    },
    "papermill": {
     "duration": 0.057041,
     "end_time": "2023-04-11T08:47:06.554702",
     "exception": false,
     "start_time": "2023-04-11T08:47:06.497661",
     "status": "completed"
    },
    "tags": []
   },
   "outputs": [],
   "source": [
    "# Create gradientboost REGRESSOR object\n",
    "from sklearn.ensemble import GradientBoostingRegressor\n",
    "gradientregressor = GradientBoostingRegressor(max_depth=2,n_estimators=3,learning_rate=1.0)"
   ]
  },
  {
   "cell_type": "code",
   "execution_count": 245,
   "id": "8434586e",
   "metadata": {
    "execution": {
     "iopub.execute_input": "2023-04-11T08:47:06.655759Z",
     "iopub.status.busy": "2023-04-11T08:47:06.655108Z",
     "iopub.status.idle": "2023-04-11T08:47:08.009967Z",
     "shell.execute_reply": "2023-04-11T08:47:08.008937Z"
    },
    "papermill": {
     "duration": 1.40763,
     "end_time": "2023-04-11T08:47:08.012571",
     "exception": false,
     "start_time": "2023-04-11T08:47:06.604941",
     "status": "completed"
    },
    "tags": []
   },
   "outputs": [],
   "source": [
    "# Train gradientboost REGRESSOR\n",
    "model = gradientregressor.fit(X_train, Y_train)\n",
    "\n",
    "#Predict the response for test dataset\n",
    "omPred = model.predict(X_test)"
   ]
  },
  {
   "cell_type": "code",
   "execution_count": 246,
   "id": "f8453867",
   "metadata": {
    "execution": {
     "iopub.execute_input": "2023-04-11T08:47:08.111333Z",
     "iopub.status.busy": "2023-04-11T08:47:08.110687Z",
     "iopub.status.idle": "2023-04-11T08:47:08.119352Z",
     "shell.execute_reply": "2023-04-11T08:47:08.117905Z"
    },
    "papermill": {
     "duration": 0.060926,
     "end_time": "2023-04-11T08:47:08.121500",
     "exception": false,
     "start_time": "2023-04-11T08:47:08.060574",
     "status": "completed"
    },
    "tags": []
   },
   "outputs": [
    {
     "name": "stdout",
     "output_type": "stream",
     "text": [
      "root mean square error : 101.31912504172686\n",
      "R2 Score :  0.02761370723029477\n"
     ]
    }
   ],
   "source": [
    "mse = mean_squared_error(Y_test, omPred)\n",
    "rmse = np.sqrt(mse)\n",
    "print(\"root mean square error : \"+str(rmse))\n",
    "\n",
    "r2 = r2_score(Y_test,omPred)\n",
    "print(\"R2 Score : \",r2)"
   ]
  },
  {
   "cell_type": "code",
   "execution_count": null,
   "id": "81b2c691",
   "metadata": {
    "execution": {
     "iopub.execute_input": "2023-04-11T08:47:08.339443Z",
     "iopub.status.busy": "2023-04-11T08:47:08.338843Z",
     "iopub.status.idle": "2023-04-11T08:48:37.495084Z",
     "shell.execute_reply": "2023-04-11T08:48:37.493833Z"
    },
    "papermill": {
     "duration": 89.268452,
     "end_time": "2023-04-11T08:48:37.545818",
     "exception": false,
     "start_time": "2023-04-11T08:47:08.277366",
     "status": "completed"
    },
    "tags": []
   },
   "outputs": [
    {
     "name": "stdout",
     "output_type": "stream",
     "text": [
      "R2 Score :  0.057228574340371874\n"
     ]
    }
   ],
   "source": [
    "#I am choosing 'n_estimators=200,learning_rate=0.15'\n",
    "gradientregressor = GradientBoostingRegressor(max_depth=2,n_estimators=200,learning_rate=0.15)\n",
    "model = gradientregressor.fit(X_train, Y_train)\n",
    "omPred = model.predict(X_test)\n",
    "r2 = r2_score(Y_test,omPred)\n",
    "print(\"R2 Score : \",r2)"
   ]
  }
 ],
 "metadata": {
  "kernelspec": {
   "display_name": "Python 3",
   "language": "python",
   "name": "python3"
  },
  "language_info": {
   "codemirror_mode": {
    "name": "ipython",
    "version": 3
   },
   "file_extension": ".py",
   "mimetype": "text/x-python",
   "name": "python",
   "nbconvert_exporter": "python",
   "pygments_lexer": "ipython3",
   "version": "3.10.7"
  },
  "papermill": {
   "default_parameters": {},
   "duration": 761.852435,
   "end_time": "2023-04-11T08:52:21.898271",
   "environment_variables": {},
   "exception": null,
   "input_path": "__notebook__.ipynb",
   "output_path": "__notebook__.ipynb",
   "parameters": {},
   "start_time": "2023-04-11T08:39:40.045836",
   "version": "2.3.4"
  }
 },
 "nbformat": 4,
 "nbformat_minor": 5
}
